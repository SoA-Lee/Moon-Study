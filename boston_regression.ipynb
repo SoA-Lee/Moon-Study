{
  "nbformat": 4,
  "nbformat_minor": 0,
  "metadata": {
    "colab": {
      "name": "boston_regression.ipynb",
      "provenance": [],
      "authorship_tag": "ABX9TyMctnBiiF9F/wFffytW3Unu",
      "include_colab_link": true
    },
    "kernelspec": {
      "name": "python3",
      "display_name": "Python 3"
    },
    "language_info": {
      "name": "python"
    }
  },
  "cells": [
    {
      "cell_type": "markdown",
      "metadata": {
        "id": "view-in-github",
        "colab_type": "text"
      },
      "source": [
        "<a href=\"https://colab.research.google.com/github/SoA-Lee/Moon-Study/blob/master/boston_regression.ipynb\" target=\"_parent\"><img src=\"https://colab.research.google.com/assets/colab-badge.svg\" alt=\"Open In Colab\"/></a>"
      ]
    },
    {
      "cell_type": "code",
      "metadata": {
        "colab": {
          "base_uri": "https://localhost:8080/"
        },
        "id": "5439aNHXAOA0",
        "outputId": "d593f90a-b21a-486a-b881-75395da8f229"
      },
      "source": [
        "import pandas as pd\n",
        "import numpy as np\n",
        "import random\n",
        "import tensorflow as tf\n",
        "print(tf.__version__)"
      ],
      "execution_count": null,
      "outputs": [
        {
          "output_type": "stream",
          "text": [
            "2.4.1\n"
          ],
          "name": "stdout"
        }
      ]
    },
    {
      "cell_type": "code",
      "metadata": {
        "colab": {
          "base_uri": "https://localhost:8080/"
        },
        "id": "rwr3ptJ6CDCI",
        "outputId": "2a009a9b-c375-42f0-cbd1-4e536e8b0f55"
      },
      "source": [
        "#랜덤 시드 고정\n",
        "SEED = 12\n",
        "random.seed(SEED)\n",
        "np.random.seed(SEED)\n",
        "tf.random.set_seed(SEED)\n",
        "print(\"시드 고정:\", SEED)"
      ],
      "execution_count": null,
      "outputs": [
        {
          "output_type": "stream",
          "text": [
            "시드 고정: 12\n"
          ],
          "name": "stdout"
        }
      ]
    },
    {
      "cell_type": "code",
      "metadata": {
        "colab": {
          "base_uri": "https://localhost:8080/"
        },
        "id": "mHFP_1-LCQjq",
        "outputId": "c27b9fd2-1e6b-459d-ad29-2ff8db2ceef3"
      },
      "source": [
        "#skleran 데이터셋에서 보스턴 주택 데이터셋 로딩\n",
        "from sklearn import datasets\n",
        "housing = datasets.load_boston()\n",
        "X_data = housing.data\n",
        "y_data = housing.target\n",
        "print(X_data.shape,y_data.shape)"
      ],
      "execution_count": null,
      "outputs": [
        {
          "output_type": "stream",
          "text": [
            "(506, 13) (506,)\n"
          ],
          "name": "stdout"
        }
      ]
    },
    {
      "cell_type": "code",
      "metadata": {
        "colab": {
          "base_uri": "https://localhost:8080/"
        },
        "id": "y2jbyb9QChal",
        "outputId": "14019e19-20e0-4dae-c36e-c70fb7cc7f3d"
      },
      "source": [
        "#피처 스케일링\n",
        "from sklearn.preprocessing import MinMaxScaler\n",
        "scaler = MinMaxScaler()\n",
        "X_data_scaled = scaler.fit_transform(X_data)\n",
        "X_data_scaled[0]"
      ],
      "execution_count": null,
      "outputs": [
        {
          "output_type": "execute_result",
          "data": {
            "text/plain": [
              "array([0.        , 0.18      , 0.06781525, 0.        , 0.31481481,\n",
              "       0.57750527, 0.64160659, 0.26920314, 0.        , 0.20801527,\n",
              "       0.28723404, 1.        , 0.08967991])"
            ]
          },
          "metadata": {
            "tags": []
          },
          "execution_count": 4
        }
      ]
    },
    {
      "cell_type": "code",
      "metadata": {
        "colab": {
          "base_uri": "https://localhost:8080/"
        },
        "id": "sUD__oiXI0jh",
        "outputId": "af1fa1df-50b2-427e-fe00-e20636d2ec15"
      },
      "source": [
        "#학습-테스트 데이터셋 분할\n",
        "from sklearn.model_selection import train_test_split\n",
        "X_train,X_test,y_train,y_test = train_test_split(X_data,y_data,test_size=0.2,shuffle=True,random_state=SEED)\n",
        "print(X_train.shape,y_train.shape)\n",
        "print(X_test.shape,y_test.shape)"
      ],
      "execution_count": null,
      "outputs": [
        {
          "output_type": "stream",
          "text": [
            "(404, 13) (404,)\n",
            "(102, 13) (102,)\n"
          ],
          "name": "stdout"
        }
      ]
    },
    {
      "cell_type": "code",
      "metadata": {
        "colab": {
          "base_uri": "https://localhost:8080/"
        },
        "id": "AHALW4bfJYo5",
        "outputId": "6e4abb0d-8063-43b2-f3c6-37b30123af7a"
      },
      "source": [
        "#심층 신경망\n",
        "from tensorflow.keras import Sequential\n",
        "from tensorflow.keras.layers import Dense\n",
        "def build_model(num_input=1):\n",
        "  model = Sequential()\n",
        "  model.add(Dense(128,activation='relu',input_dim=num_input))\n",
        "  model.add(Dense(64,activation='relu'))\n",
        "  model.add(Dense(32,activation='relu'))\n",
        "  model.add(Dense(16,activation='relu'))\n",
        "  model.add(Dense(1,activation='relu'))\n",
        "\n",
        "  model.compile(optimizer='adam',loss='mse',metrics=['mae'])\n",
        "\n",
        "  return model\n",
        "model = build_model(num_input=13)\n",
        "model.summary()  "
      ],
      "execution_count": null,
      "outputs": [
        {
          "output_type": "stream",
          "text": [
            "Model: \"sequential\"\n",
            "_________________________________________________________________\n",
            "Layer (type)                 Output Shape              Param #   \n",
            "=================================================================\n",
            "dense (Dense)                (None, 128)               1792      \n",
            "_________________________________________________________________\n",
            "dense_1 (Dense)              (None, 64)                8256      \n",
            "_________________________________________________________________\n",
            "dense_2 (Dense)              (None, 32)                2080      \n",
            "_________________________________________________________________\n",
            "dense_3 (Dense)              (None, 16)                528       \n",
            "_________________________________________________________________\n",
            "dense_4 (Dense)              (None, 1)                 17        \n",
            "=================================================================\n",
            "Total params: 12,673\n",
            "Trainable params: 12,673\n",
            "Non-trainable params: 0\n",
            "_________________________________________________________________\n"
          ],
          "name": "stdout"
        }
      ]
    },
    {
      "cell_type": "code",
      "metadata": {
        "colab": {
          "base_uri": "https://localhost:8080/"
        },
        "id": "Quw3j2-ZLOEy",
        "outputId": "479d9a13-e667-4c73-bb95-7c07ef189350"
      },
      "source": [
        "#모델 훈련\n",
        "model.fit(X_train, y_train,epochs=100,batch_size=32,verbose=2)"
      ],
      "execution_count": null,
      "outputs": [
        {
          "output_type": "stream",
          "text": [
            "Epoch 1/100\n",
            "13/13 - 1s - loss: 90.2208 - mae: 7.0756\n",
            "Epoch 2/100\n",
            "13/13 - 0s - loss: 64.1642 - mae: 5.7309\n",
            "Epoch 3/100\n",
            "13/13 - 0s - loss: 64.0255 - mae: 5.6375\n",
            "Epoch 4/100\n",
            "13/13 - 0s - loss: 59.8935 - mae: 5.7237\n",
            "Epoch 5/100\n",
            "13/13 - 0s - loss: 56.3740 - mae: 5.4424\n",
            "Epoch 6/100\n",
            "13/13 - 0s - loss: 64.8597 - mae: 5.7255\n",
            "Epoch 7/100\n",
            "13/13 - 0s - loss: 55.9070 - mae: 5.6685\n",
            "Epoch 8/100\n",
            "13/13 - 0s - loss: 59.0239 - mae: 5.4474\n",
            "Epoch 9/100\n",
            "13/13 - 0s - loss: 53.3004 - mae: 5.2688\n",
            "Epoch 10/100\n",
            "13/13 - 0s - loss: 46.8453 - mae: 4.8642\n",
            "Epoch 11/100\n",
            "13/13 - 0s - loss: 49.0438 - mae: 5.0323\n",
            "Epoch 12/100\n",
            "13/13 - 0s - loss: 46.4895 - mae: 4.8189\n",
            "Epoch 13/100\n",
            "13/13 - 0s - loss: 58.3394 - mae: 5.6123\n",
            "Epoch 14/100\n",
            "13/13 - 0s - loss: 42.3440 - mae: 4.6123\n",
            "Epoch 15/100\n",
            "13/13 - 0s - loss: 44.8931 - mae: 4.6854\n",
            "Epoch 16/100\n",
            "13/13 - 0s - loss: 38.6946 - mae: 4.3805\n",
            "Epoch 17/100\n",
            "13/13 - 0s - loss: 39.6368 - mae: 4.5910\n",
            "Epoch 18/100\n",
            "13/13 - 0s - loss: 39.9005 - mae: 4.5373\n",
            "Epoch 19/100\n",
            "13/13 - 0s - loss: 35.7314 - mae: 4.2159\n",
            "Epoch 20/100\n",
            "13/13 - 0s - loss: 34.0336 - mae: 4.1258\n",
            "Epoch 21/100\n",
            "13/13 - 0s - loss: 38.6308 - mae: 4.6071\n",
            "Epoch 22/100\n",
            "13/13 - 0s - loss: 39.0641 - mae: 4.5982\n",
            "Epoch 23/100\n",
            "13/13 - 0s - loss: 37.6667 - mae: 4.3431\n",
            "Epoch 24/100\n",
            "13/13 - 0s - loss: 36.2712 - mae: 4.3668\n",
            "Epoch 25/100\n",
            "13/13 - 0s - loss: 30.8364 - mae: 4.0230\n",
            "Epoch 26/100\n",
            "13/13 - 0s - loss: 30.2662 - mae: 4.0130\n",
            "Epoch 27/100\n",
            "13/13 - 0s - loss: 29.2786 - mae: 3.8398\n",
            "Epoch 28/100\n",
            "13/13 - 0s - loss: 30.9011 - mae: 4.0383\n",
            "Epoch 29/100\n",
            "13/13 - 0s - loss: 32.7830 - mae: 4.2887\n",
            "Epoch 30/100\n",
            "13/13 - 0s - loss: 30.9590 - mae: 4.0465\n",
            "Epoch 31/100\n",
            "13/13 - 0s - loss: 27.5047 - mae: 3.7498\n",
            "Epoch 32/100\n",
            "13/13 - 0s - loss: 32.3170 - mae: 4.2155\n",
            "Epoch 33/100\n",
            "13/13 - 0s - loss: 40.6266 - mae: 4.9071\n",
            "Epoch 34/100\n",
            "13/13 - 0s - loss: 48.0067 - mae: 5.3647\n",
            "Epoch 35/100\n",
            "13/13 - 0s - loss: 34.2879 - mae: 4.1833\n",
            "Epoch 36/100\n",
            "13/13 - 0s - loss: 32.9558 - mae: 4.2575\n",
            "Epoch 37/100\n",
            "13/13 - 0s - loss: 29.8059 - mae: 3.9542\n",
            "Epoch 38/100\n",
            "13/13 - 0s - loss: 28.6657 - mae: 3.8584\n",
            "Epoch 39/100\n",
            "13/13 - 0s - loss: 32.6511 - mae: 4.2977\n",
            "Epoch 40/100\n",
            "13/13 - 0s - loss: 26.1281 - mae: 3.7307\n",
            "Epoch 41/100\n",
            "13/13 - 0s - loss: 25.2831 - mae: 3.6255\n",
            "Epoch 42/100\n",
            "13/13 - 0s - loss: 27.2629 - mae: 3.8743\n",
            "Epoch 43/100\n",
            "13/13 - 0s - loss: 24.8226 - mae: 3.5674\n",
            "Epoch 44/100\n",
            "13/13 - 0s - loss: 23.6169 - mae: 3.6112\n",
            "Epoch 45/100\n",
            "13/13 - 0s - loss: 23.6686 - mae: 3.6746\n",
            "Epoch 46/100\n",
            "13/13 - 0s - loss: 28.3133 - mae: 3.9796\n",
            "Epoch 47/100\n",
            "13/13 - 0s - loss: 22.8153 - mae: 3.5708\n",
            "Epoch 48/100\n",
            "13/13 - 0s - loss: 22.7953 - mae: 3.5101\n",
            "Epoch 49/100\n",
            "13/13 - 0s - loss: 22.9154 - mae: 3.6089\n",
            "Epoch 50/100\n",
            "13/13 - 0s - loss: 22.2280 - mae: 3.5333\n",
            "Epoch 51/100\n",
            "13/13 - 0s - loss: 20.5243 - mae: 3.3726\n",
            "Epoch 52/100\n",
            "13/13 - 0s - loss: 26.2769 - mae: 3.8932\n",
            "Epoch 53/100\n",
            "13/13 - 0s - loss: 27.9868 - mae: 4.0214\n",
            "Epoch 54/100\n",
            "13/13 - 0s - loss: 29.8318 - mae: 3.9629\n",
            "Epoch 55/100\n",
            "13/13 - 0s - loss: 26.8055 - mae: 3.9686\n",
            "Epoch 56/100\n",
            "13/13 - 0s - loss: 21.7499 - mae: 3.4558\n",
            "Epoch 57/100\n",
            "13/13 - 0s - loss: 27.6855 - mae: 3.8498\n",
            "Epoch 58/100\n",
            "13/13 - 0s - loss: 22.8054 - mae: 3.4902\n",
            "Epoch 59/100\n",
            "13/13 - 0s - loss: 20.2400 - mae: 3.3417\n",
            "Epoch 60/100\n",
            "13/13 - 0s - loss: 23.3640 - mae: 3.5236\n",
            "Epoch 61/100\n",
            "13/13 - 0s - loss: 23.5879 - mae: 3.6078\n",
            "Epoch 62/100\n",
            "13/13 - 0s - loss: 21.7992 - mae: 3.4613\n",
            "Epoch 63/100\n",
            "13/13 - 0s - loss: 21.9278 - mae: 3.5151\n",
            "Epoch 64/100\n",
            "13/13 - 0s - loss: 19.8724 - mae: 3.3980\n",
            "Epoch 65/100\n",
            "13/13 - 0s - loss: 26.5980 - mae: 3.9779\n",
            "Epoch 66/100\n",
            "13/13 - 0s - loss: 24.7140 - mae: 3.6065\n",
            "Epoch 67/100\n",
            "13/13 - 0s - loss: 22.2955 - mae: 3.4643\n",
            "Epoch 68/100\n",
            "13/13 - 0s - loss: 19.1791 - mae: 3.2820\n",
            "Epoch 69/100\n",
            "13/13 - 0s - loss: 18.0089 - mae: 3.1211\n",
            "Epoch 70/100\n",
            "13/13 - 0s - loss: 18.2890 - mae: 3.1943\n",
            "Epoch 71/100\n",
            "13/13 - 0s - loss: 17.5581 - mae: 3.0588\n",
            "Epoch 72/100\n",
            "13/13 - 0s - loss: 18.6572 - mae: 3.2013\n",
            "Epoch 73/100\n",
            "13/13 - 0s - loss: 21.4482 - mae: 3.3086\n",
            "Epoch 74/100\n",
            "13/13 - 0s - loss: 20.7107 - mae: 3.4881\n",
            "Epoch 75/100\n",
            "13/13 - 0s - loss: 16.6467 - mae: 2.9494\n",
            "Epoch 76/100\n",
            "13/13 - 0s - loss: 22.9149 - mae: 3.6530\n",
            "Epoch 77/100\n",
            "13/13 - 0s - loss: 21.3084 - mae: 3.5120\n",
            "Epoch 78/100\n",
            "13/13 - 0s - loss: 19.3657 - mae: 3.2351\n",
            "Epoch 79/100\n",
            "13/13 - 0s - loss: 19.1153 - mae: 3.3691\n",
            "Epoch 80/100\n",
            "13/13 - 0s - loss: 19.6719 - mae: 3.2584\n",
            "Epoch 81/100\n",
            "13/13 - 0s - loss: 20.0056 - mae: 3.4022\n",
            "Epoch 82/100\n",
            "13/13 - 0s - loss: 18.2179 - mae: 3.1221\n",
            "Epoch 83/100\n",
            "13/13 - 0s - loss: 18.2413 - mae: 3.1298\n",
            "Epoch 84/100\n",
            "13/13 - 0s - loss: 21.9917 - mae: 3.4850\n",
            "Epoch 85/100\n",
            "13/13 - 0s - loss: 28.0765 - mae: 4.1574\n",
            "Epoch 86/100\n",
            "13/13 - 0s - loss: 22.8885 - mae: 3.5797\n",
            "Epoch 87/100\n",
            "13/13 - 0s - loss: 16.0604 - mae: 2.9181\n",
            "Epoch 88/100\n",
            "13/13 - 0s - loss: 18.6546 - mae: 3.1302\n",
            "Epoch 89/100\n",
            "13/13 - 0s - loss: 18.8318 - mae: 3.1978\n",
            "Epoch 90/100\n",
            "13/13 - 0s - loss: 17.8761 - mae: 3.1654\n",
            "Epoch 91/100\n",
            "13/13 - 0s - loss: 16.4400 - mae: 2.9515\n",
            "Epoch 92/100\n",
            "13/13 - 0s - loss: 17.6315 - mae: 3.0710\n",
            "Epoch 93/100\n",
            "13/13 - 0s - loss: 17.1416 - mae: 3.1066\n",
            "Epoch 94/100\n",
            "13/13 - 0s - loss: 16.3726 - mae: 2.9923\n",
            "Epoch 95/100\n",
            "13/13 - 0s - loss: 16.2860 - mae: 2.9265\n",
            "Epoch 96/100\n",
            "13/13 - 0s - loss: 25.8004 - mae: 3.8486\n",
            "Epoch 97/100\n",
            "13/13 - 0s - loss: 21.3270 - mae: 3.4546\n",
            "Epoch 98/100\n",
            "13/13 - 0s - loss: 21.8355 - mae: 3.5755\n",
            "Epoch 99/100\n",
            "13/13 - 0s - loss: 18.7867 - mae: 3.2249\n",
            "Epoch 100/100\n",
            "13/13 - 0s - loss: 16.6515 - mae: 3.0332\n"
          ],
          "name": "stdout"
        },
        {
          "output_type": "execute_result",
          "data": {
            "text/plain": [
              "<tensorflow.python.keras.callbacks.History at 0x7fee1e4fe950>"
            ]
          },
          "metadata": {
            "tags": []
          },
          "execution_count": 7
        }
      ]
    },
    {
      "cell_type": "code",
      "metadata": {
        "colab": {
          "base_uri": "https://localhost:8080/"
        },
        "id": "jC1kgZx2MVar",
        "outputId": "b4c76b8c-426f-45da-8107-00292fb1eb81"
      },
      "source": [
        "#평가\n",
        "model.evaluate(X_test, y_test)"
      ],
      "execution_count": null,
      "outputs": [
        {
          "output_type": "stream",
          "text": [
            "4/4 [==============================] - 0s 3ms/step - loss: 24.4812 - mae: 3.5069\n"
          ],
          "name": "stdout"
        },
        {
          "output_type": "execute_result",
          "data": {
            "text/plain": [
              "[24.48122215270996, 3.5068814754486084]"
            ]
          },
          "metadata": {
            "tags": []
          },
          "execution_count": 8
        }
      ]
    },
    {
      "cell_type": "code",
      "metadata": {
        "colab": {
          "base_uri": "https://localhost:8080/"
        },
        "id": "6cs-pBe0Mbf7",
        "outputId": "f29d7a00-515f-44d6-c620-ab295c434557"
      },
      "source": [
        "model = build_model(num_input=13)\n",
        "history = model.fit(X_train,y_train,batch_size=32,epochs=200,validation_split=0.25,verbose=2)"
      ],
      "execution_count": null,
      "outputs": [
        {
          "output_type": "stream",
          "text": [
            "Epoch 1/200\n",
            "10/10 - 1s - loss: 1237.2273 - mae: 25.6319 - val_loss: 181.4406 - val_mae: 11.0436\n",
            "Epoch 2/200\n",
            "10/10 - 0s - loss: 172.0374 - mae: 10.3364 - val_loss: 102.9056 - val_mae: 7.0507\n",
            "Epoch 3/200\n",
            "10/10 - 0s - loss: 88.3426 - mae: 6.7461 - val_loss: 60.3246 - val_mae: 6.2380\n",
            "Epoch 4/200\n",
            "10/10 - 0s - loss: 76.0711 - mae: 6.6196 - val_loss: 59.9225 - val_mae: 5.6343\n",
            "Epoch 5/200\n",
            "10/10 - 0s - loss: 73.5757 - mae: 6.1326 - val_loss: 59.5306 - val_mae: 5.9455\n",
            "Epoch 6/200\n",
            "10/10 - 0s - loss: 72.6879 - mae: 6.0497 - val_loss: 58.8538 - val_mae: 5.3517\n",
            "Epoch 7/200\n",
            "10/10 - 0s - loss: 70.4425 - mae: 5.7623 - val_loss: 55.3603 - val_mae: 5.8217\n",
            "Epoch 8/200\n",
            "10/10 - 0s - loss: 71.0295 - mae: 6.3172 - val_loss: 54.2397 - val_mae: 5.2034\n",
            "Epoch 9/200\n",
            "10/10 - 0s - loss: 70.3441 - mae: 5.6543 - val_loss: 53.1692 - val_mae: 5.4573\n",
            "Epoch 10/200\n",
            "10/10 - 0s - loss: 69.5205 - mae: 6.0206 - val_loss: 52.7474 - val_mae: 5.1982\n",
            "Epoch 11/200\n",
            "10/10 - 0s - loss: 67.7216 - mae: 5.8155 - val_loss: 52.3374 - val_mae: 5.4589\n",
            "Epoch 12/200\n",
            "10/10 - 0s - loss: 66.8608 - mae: 5.6907 - val_loss: 51.6711 - val_mae: 5.2955\n",
            "Epoch 13/200\n",
            "10/10 - 0s - loss: 67.0047 - mae: 5.9009 - val_loss: 50.8270 - val_mae: 5.1277\n",
            "Epoch 14/200\n",
            "10/10 - 0s - loss: 66.5613 - mae: 5.6182 - val_loss: 51.0500 - val_mae: 5.0271\n",
            "Epoch 15/200\n",
            "10/10 - 0s - loss: 65.8708 - mae: 5.5860 - val_loss: 50.7169 - val_mae: 5.4162\n",
            "Epoch 16/200\n",
            "10/10 - 0s - loss: 65.2119 - mae: 5.7485 - val_loss: 50.7439 - val_mae: 4.9945\n",
            "Epoch 17/200\n",
            "10/10 - 0s - loss: 66.5427 - mae: 5.4482 - val_loss: 52.7933 - val_mae: 5.6983\n",
            "Epoch 18/200\n",
            "10/10 - 0s - loss: 66.5312 - mae: 5.7751 - val_loss: 51.4628 - val_mae: 4.8125\n",
            "Epoch 19/200\n",
            "10/10 - 0s - loss: 67.4992 - mae: 5.8753 - val_loss: 49.6249 - val_mae: 5.3225\n",
            "Epoch 20/200\n",
            "10/10 - 0s - loss: 64.2430 - mae: 5.4704 - val_loss: 49.6550 - val_mae: 5.1243\n",
            "Epoch 21/200\n",
            "10/10 - 0s - loss: 63.3247 - mae: 5.6651 - val_loss: 48.6842 - val_mae: 5.1772\n",
            "Epoch 22/200\n",
            "10/10 - 0s - loss: 62.5624 - mae: 5.4196 - val_loss: 48.2929 - val_mae: 5.0761\n",
            "Epoch 23/200\n",
            "10/10 - 0s - loss: 62.4926 - mae: 5.6002 - val_loss: 47.7859 - val_mae: 5.0492\n",
            "Epoch 24/200\n",
            "10/10 - 0s - loss: 62.1325 - mae: 5.2775 - val_loss: 46.8217 - val_mae: 5.0270\n",
            "Epoch 25/200\n",
            "10/10 - 0s - loss: 61.9593 - mae: 5.6945 - val_loss: 47.0138 - val_mae: 4.9173\n",
            "Epoch 26/200\n",
            "10/10 - 0s - loss: 60.8538 - mae: 5.3302 - val_loss: 46.6757 - val_mae: 4.9940\n",
            "Epoch 27/200\n",
            "10/10 - 0s - loss: 60.4112 - mae: 5.2576 - val_loss: 46.8376 - val_mae: 5.2100\n",
            "Epoch 28/200\n",
            "10/10 - 0s - loss: 61.0310 - mae: 5.4549 - val_loss: 46.2748 - val_mae: 4.9571\n",
            "Epoch 29/200\n",
            "10/10 - 0s - loss: 59.0595 - mae: 5.4197 - val_loss: 45.4292 - val_mae: 4.9025\n",
            "Epoch 30/200\n",
            "10/10 - 0s - loss: 59.9705 - mae: 5.2066 - val_loss: 46.6246 - val_mae: 5.2563\n",
            "Epoch 31/200\n",
            "10/10 - 0s - loss: 59.1093 - mae: 5.2200 - val_loss: 44.0430 - val_mae: 4.6814\n",
            "Epoch 32/200\n",
            "10/10 - 0s - loss: 58.5340 - mae: 5.4660 - val_loss: 45.1381 - val_mae: 4.5204\n",
            "Epoch 33/200\n",
            "10/10 - 0s - loss: 58.0549 - mae: 5.1958 - val_loss: 43.5069 - val_mae: 4.8842\n",
            "Epoch 34/200\n",
            "10/10 - 0s - loss: 55.9078 - mae: 5.1608 - val_loss: 43.3035 - val_mae: 4.4793\n",
            "Epoch 35/200\n",
            "10/10 - 0s - loss: 57.4182 - mae: 5.3584 - val_loss: 43.0117 - val_mae: 4.4338\n",
            "Epoch 36/200\n",
            "10/10 - 0s - loss: 57.5467 - mae: 5.2006 - val_loss: 48.8357 - val_mae: 5.5704\n",
            "Epoch 37/200\n",
            "10/10 - 0s - loss: 59.5686 - mae: 5.1204 - val_loss: 43.2339 - val_mae: 4.9971\n",
            "Epoch 38/200\n",
            "10/10 - 0s - loss: 62.8033 - mae: 5.8841 - val_loss: 48.6846 - val_mae: 4.4304\n",
            "Epoch 39/200\n",
            "10/10 - 0s - loss: 55.6293 - mae: 4.9593 - val_loss: 48.6952 - val_mae: 5.6038\n",
            "Epoch 40/200\n",
            "10/10 - 0s - loss: 54.5994 - mae: 4.9849 - val_loss: 41.7224 - val_mae: 4.4067\n",
            "Epoch 41/200\n",
            "10/10 - 0s - loss: 52.8258 - mae: 5.1286 - val_loss: 41.3048 - val_mae: 4.3148\n",
            "Epoch 42/200\n",
            "10/10 - 0s - loss: 51.0324 - mae: 4.9908 - val_loss: 39.9549 - val_mae: 4.5156\n",
            "Epoch 43/200\n",
            "10/10 - 0s - loss: 50.7732 - mae: 4.7639 - val_loss: 40.5774 - val_mae: 4.8257\n",
            "Epoch 44/200\n",
            "10/10 - 0s - loss: 49.3633 - mae: 4.8648 - val_loss: 38.1349 - val_mae: 4.1479\n",
            "Epoch 45/200\n",
            "10/10 - 0s - loss: 47.6248 - mae: 4.6679 - val_loss: 39.2782 - val_mae: 4.5408\n",
            "Epoch 46/200\n",
            "10/10 - 0s - loss: 46.8402 - mae: 4.6408 - val_loss: 43.3815 - val_mae: 5.1215\n",
            "Epoch 47/200\n",
            "10/10 - 0s - loss: 50.4552 - mae: 4.8360 - val_loss: 46.6304 - val_mae: 5.4676\n",
            "Epoch 48/200\n",
            "10/10 - 0s - loss: 47.4097 - mae: 4.9844 - val_loss: 38.5527 - val_mae: 4.0466\n",
            "Epoch 49/200\n",
            "10/10 - 0s - loss: 51.5682 - mae: 5.1877 - val_loss: 43.2922 - val_mae: 4.3320\n",
            "Epoch 50/200\n",
            "10/10 - 0s - loss: 47.2708 - mae: 4.8609 - val_loss: 37.7140 - val_mae: 4.0119\n",
            "Epoch 51/200\n",
            "10/10 - 0s - loss: 45.3942 - mae: 4.5900 - val_loss: 44.7438 - val_mae: 5.3246\n",
            "Epoch 52/200\n",
            "10/10 - 0s - loss: 44.9222 - mae: 4.6054 - val_loss: 41.1751 - val_mae: 4.9612\n",
            "Epoch 53/200\n",
            "10/10 - 0s - loss: 47.0414 - mae: 5.1833 - val_loss: 41.4249 - val_mae: 4.1787\n",
            "Epoch 54/200\n",
            "10/10 - 0s - loss: 41.6748 - mae: 4.5598 - val_loss: 34.7151 - val_mae: 4.0626\n",
            "Epoch 55/200\n",
            "10/10 - 0s - loss: 41.4927 - mae: 4.4845 - val_loss: 34.4586 - val_mae: 4.0136\n",
            "Epoch 56/200\n",
            "10/10 - 0s - loss: 39.2049 - mae: 4.2871 - val_loss: 35.1200 - val_mae: 3.9991\n",
            "Epoch 57/200\n",
            "10/10 - 0s - loss: 40.4937 - mae: 4.4986 - val_loss: 35.8089 - val_mae: 4.0324\n",
            "Epoch 58/200\n",
            "10/10 - 0s - loss: 42.1345 - mae: 4.6126 - val_loss: 32.5173 - val_mae: 3.9131\n",
            "Epoch 59/200\n",
            "10/10 - 0s - loss: 36.5613 - mae: 4.1770 - val_loss: 35.2518 - val_mae: 4.4178\n",
            "Epoch 60/200\n",
            "10/10 - 0s - loss: 36.2931 - mae: 4.1918 - val_loss: 39.3133 - val_mae: 4.8668\n",
            "Epoch 61/200\n",
            "10/10 - 0s - loss: 36.8567 - mae: 4.3297 - val_loss: 33.5138 - val_mae: 4.2634\n",
            "Epoch 62/200\n",
            "10/10 - 0s - loss: 36.8029 - mae: 4.3691 - val_loss: 32.9360 - val_mae: 4.1821\n",
            "Epoch 63/200\n",
            "10/10 - 0s - loss: 35.4485 - mae: 4.2966 - val_loss: 32.5671 - val_mae: 3.8191\n",
            "Epoch 64/200\n",
            "10/10 - 0s - loss: 34.7327 - mae: 4.1975 - val_loss: 34.0100 - val_mae: 3.8596\n",
            "Epoch 65/200\n",
            "10/10 - 0s - loss: 34.7267 - mae: 4.1365 - val_loss: 31.6836 - val_mae: 3.9179\n",
            "Epoch 66/200\n",
            "10/10 - 0s - loss: 32.5958 - mae: 4.0530 - val_loss: 33.4136 - val_mae: 4.3958\n",
            "Epoch 67/200\n",
            "10/10 - 0s - loss: 32.0783 - mae: 4.0518 - val_loss: 53.2573 - val_mae: 6.2595\n",
            "Epoch 68/200\n",
            "10/10 - 0s - loss: 45.7210 - mae: 5.1307 - val_loss: 36.6505 - val_mae: 4.8264\n",
            "Epoch 69/200\n",
            "10/10 - 0s - loss: 34.2006 - mae: 4.2237 - val_loss: 33.1872 - val_mae: 4.3506\n",
            "Epoch 70/200\n",
            "10/10 - 0s - loss: 32.1469 - mae: 4.0337 - val_loss: 33.8115 - val_mae: 4.5348\n",
            "Epoch 71/200\n",
            "10/10 - 0s - loss: 32.9983 - mae: 4.1231 - val_loss: 32.1409 - val_mae: 4.2267\n",
            "Epoch 72/200\n",
            "10/10 - 0s - loss: 31.4997 - mae: 4.0550 - val_loss: 30.6147 - val_mae: 4.0720\n",
            "Epoch 73/200\n",
            "10/10 - 0s - loss: 30.0526 - mae: 3.9338 - val_loss: 30.8225 - val_mae: 3.9037\n",
            "Epoch 74/200\n",
            "10/10 - 0s - loss: 29.7345 - mae: 3.9186 - val_loss: 30.6087 - val_mae: 3.7721\n",
            "Epoch 75/200\n",
            "10/10 - 0s - loss: 29.9583 - mae: 4.0301 - val_loss: 32.7502 - val_mae: 3.7296\n",
            "Epoch 76/200\n",
            "10/10 - 0s - loss: 31.4140 - mae: 4.0531 - val_loss: 31.9342 - val_mae: 4.4000\n",
            "Epoch 77/200\n",
            "10/10 - 0s - loss: 31.6272 - mae: 4.1383 - val_loss: 31.9536 - val_mae: 4.2598\n",
            "Epoch 78/200\n",
            "10/10 - 0s - loss: 27.5883 - mae: 3.8506 - val_loss: 30.7004 - val_mae: 4.2154\n",
            "Epoch 79/200\n",
            "10/10 - 0s - loss: 27.3793 - mae: 3.8128 - val_loss: 28.2737 - val_mae: 3.7968\n",
            "Epoch 80/200\n",
            "10/10 - 0s - loss: 27.7276 - mae: 3.8002 - val_loss: 29.7613 - val_mae: 4.0331\n",
            "Epoch 81/200\n",
            "10/10 - 0s - loss: 29.4591 - mae: 4.0557 - val_loss: 33.4401 - val_mae: 4.6714\n",
            "Epoch 82/200\n",
            "10/10 - 0s - loss: 26.0116 - mae: 3.7976 - val_loss: 28.4887 - val_mae: 3.9411\n",
            "Epoch 83/200\n",
            "10/10 - 0s - loss: 25.1458 - mae: 3.6532 - val_loss: 32.9005 - val_mae: 4.5434\n",
            "Epoch 84/200\n",
            "10/10 - 0s - loss: 25.5006 - mae: 3.7379 - val_loss: 28.1003 - val_mae: 3.5236\n",
            "Epoch 85/200\n",
            "10/10 - 0s - loss: 25.8206 - mae: 3.7569 - val_loss: 27.5633 - val_mae: 3.7985\n",
            "Epoch 86/200\n",
            "10/10 - 0s - loss: 25.1363 - mae: 3.7356 - val_loss: 30.5882 - val_mae: 3.6124\n",
            "Epoch 87/200\n",
            "10/10 - 0s - loss: 29.2021 - mae: 4.0055 - val_loss: 36.4856 - val_mae: 4.9246\n",
            "Epoch 88/200\n",
            "10/10 - 0s - loss: 29.6210 - mae: 4.1111 - val_loss: 27.8682 - val_mae: 3.9992\n",
            "Epoch 89/200\n",
            "10/10 - 0s - loss: 23.5035 - mae: 3.6050 - val_loss: 27.8029 - val_mae: 3.9514\n",
            "Epoch 90/200\n",
            "10/10 - 0s - loss: 23.7676 - mae: 3.5229 - val_loss: 28.7945 - val_mae: 3.8963\n",
            "Epoch 91/200\n",
            "10/10 - 0s - loss: 25.0449 - mae: 3.7699 - val_loss: 32.5043 - val_mae: 4.6929\n",
            "Epoch 92/200\n",
            "10/10 - 0s - loss: 25.9755 - mae: 3.8684 - val_loss: 28.0005 - val_mae: 3.5666\n",
            "Epoch 93/200\n",
            "10/10 - 0s - loss: 23.7018 - mae: 3.7356 - val_loss: 27.6451 - val_mae: 3.4643\n",
            "Epoch 94/200\n",
            "10/10 - 0s - loss: 23.1179 - mae: 3.5591 - val_loss: 26.8427 - val_mae: 3.5742\n",
            "Epoch 95/200\n",
            "10/10 - 0s - loss: 21.4264 - mae: 3.5119 - val_loss: 26.3927 - val_mae: 3.5713\n",
            "Epoch 96/200\n",
            "10/10 - 0s - loss: 22.0608 - mae: 3.3800 - val_loss: 31.9674 - val_mae: 4.3620\n",
            "Epoch 97/200\n",
            "10/10 - 0s - loss: 20.5878 - mae: 3.4820 - val_loss: 24.6442 - val_mae: 3.5051\n",
            "Epoch 98/200\n",
            "10/10 - 0s - loss: 22.6619 - mae: 3.6414 - val_loss: 26.4084 - val_mae: 3.8321\n",
            "Epoch 99/200\n",
            "10/10 - 0s - loss: 20.2431 - mae: 3.3640 - val_loss: 26.5573 - val_mae: 3.3082\n",
            "Epoch 100/200\n",
            "10/10 - 0s - loss: 23.0589 - mae: 3.4823 - val_loss: 29.0566 - val_mae: 4.0355\n",
            "Epoch 101/200\n",
            "10/10 - 0s - loss: 20.1978 - mae: 3.3683 - val_loss: 23.7307 - val_mae: 3.2307\n",
            "Epoch 102/200\n",
            "10/10 - 0s - loss: 18.7320 - mae: 3.2846 - val_loss: 23.9606 - val_mae: 3.2990\n",
            "Epoch 103/200\n",
            "10/10 - 0s - loss: 20.9013 - mae: 3.3021 - val_loss: 26.1309 - val_mae: 3.8820\n",
            "Epoch 104/200\n",
            "10/10 - 0s - loss: 28.3168 - mae: 4.0930 - val_loss: 33.1376 - val_mae: 4.5633\n",
            "Epoch 105/200\n",
            "10/10 - 0s - loss: 22.3136 - mae: 3.5161 - val_loss: 26.3214 - val_mae: 3.5050\n",
            "Epoch 106/200\n",
            "10/10 - 0s - loss: 20.5097 - mae: 3.4115 - val_loss: 27.5579 - val_mae: 3.3589\n",
            "Epoch 107/200\n",
            "10/10 - 0s - loss: 19.9181 - mae: 3.3837 - val_loss: 26.9483 - val_mae: 3.8936\n",
            "Epoch 108/200\n",
            "10/10 - 0s - loss: 18.2453 - mae: 3.1983 - val_loss: 26.7363 - val_mae: 3.8510\n",
            "Epoch 109/200\n",
            "10/10 - 0s - loss: 20.6634 - mae: 3.3683 - val_loss: 24.7601 - val_mae: 3.4894\n",
            "Epoch 110/200\n",
            "10/10 - 0s - loss: 17.1332 - mae: 3.0817 - val_loss: 23.2643 - val_mae: 3.2293\n",
            "Epoch 111/200\n",
            "10/10 - 0s - loss: 17.8101 - mae: 3.1786 - val_loss: 25.2900 - val_mae: 3.6915\n",
            "Epoch 112/200\n",
            "10/10 - 0s - loss: 17.1731 - mae: 3.1364 - val_loss: 23.2480 - val_mae: 3.3056\n",
            "Epoch 113/200\n",
            "10/10 - 0s - loss: 15.8296 - mae: 2.9462 - val_loss: 23.1887 - val_mae: 3.3853\n",
            "Epoch 114/200\n",
            "10/10 - 0s - loss: 16.7294 - mae: 3.0109 - val_loss: 24.9549 - val_mae: 3.4613\n",
            "Epoch 115/200\n",
            "10/10 - 0s - loss: 18.9705 - mae: 3.2569 - val_loss: 26.0722 - val_mae: 3.6815\n",
            "Epoch 116/200\n",
            "10/10 - 0s - loss: 16.9399 - mae: 3.0308 - val_loss: 25.6375 - val_mae: 3.4752\n",
            "Epoch 117/200\n",
            "10/10 - 0s - loss: 16.9366 - mae: 2.9987 - val_loss: 25.2146 - val_mae: 3.5806\n",
            "Epoch 118/200\n",
            "10/10 - 0s - loss: 15.5868 - mae: 3.0707 - val_loss: 29.5143 - val_mae: 3.7939\n",
            "Epoch 119/200\n",
            "10/10 - 0s - loss: 17.7520 - mae: 3.1432 - val_loss: 24.6892 - val_mae: 3.4260\n",
            "Epoch 120/200\n",
            "10/10 - 0s - loss: 18.2146 - mae: 3.1451 - val_loss: 26.0209 - val_mae: 3.5745\n",
            "Epoch 121/200\n",
            "10/10 - 0s - loss: 18.1673 - mae: 3.1773 - val_loss: 24.0864 - val_mae: 3.7392\n",
            "Epoch 122/200\n",
            "10/10 - 0s - loss: 19.2703 - mae: 3.2570 - val_loss: 26.4390 - val_mae: 3.4776\n",
            "Epoch 123/200\n",
            "10/10 - 0s - loss: 16.9059 - mae: 3.0477 - val_loss: 23.1271 - val_mae: 3.2707\n",
            "Epoch 124/200\n",
            "10/10 - 0s - loss: 16.1311 - mae: 2.9610 - val_loss: 32.1871 - val_mae: 4.3728\n",
            "Epoch 125/200\n",
            "10/10 - 0s - loss: 20.1965 - mae: 3.4483 - val_loss: 24.1141 - val_mae: 3.5403\n",
            "Epoch 126/200\n",
            "10/10 - 0s - loss: 15.5264 - mae: 2.9986 - val_loss: 24.9232 - val_mae: 3.6784\n",
            "Epoch 127/200\n",
            "10/10 - 0s - loss: 17.6100 - mae: 3.1256 - val_loss: 29.9483 - val_mae: 4.2331\n",
            "Epoch 128/200\n",
            "10/10 - 0s - loss: 17.8173 - mae: 3.2109 - val_loss: 24.9140 - val_mae: 3.4757\n",
            "Epoch 129/200\n",
            "10/10 - 0s - loss: 22.7052 - mae: 3.5102 - val_loss: 26.8127 - val_mae: 3.7113\n",
            "Epoch 130/200\n",
            "10/10 - 0s - loss: 18.2619 - mae: 3.2164 - val_loss: 26.2116 - val_mae: 3.8196\n",
            "Epoch 131/200\n",
            "10/10 - 0s - loss: 15.0761 - mae: 2.9185 - val_loss: 23.4537 - val_mae: 3.4573\n",
            "Epoch 132/200\n",
            "10/10 - 0s - loss: 14.2460 - mae: 2.8632 - val_loss: 24.5267 - val_mae: 3.6393\n",
            "Epoch 133/200\n",
            "10/10 - 0s - loss: 15.3679 - mae: 2.9658 - val_loss: 23.3363 - val_mae: 3.6263\n",
            "Epoch 134/200\n",
            "10/10 - 0s - loss: 18.0066 - mae: 3.1438 - val_loss: 24.4277 - val_mae: 3.4461\n",
            "Epoch 135/200\n",
            "10/10 - 0s - loss: 15.7043 - mae: 2.9003 - val_loss: 25.0383 - val_mae: 3.5558\n",
            "Epoch 136/200\n",
            "10/10 - 0s - loss: 14.2668 - mae: 2.8215 - val_loss: 23.3401 - val_mae: 3.5183\n",
            "Epoch 137/200\n",
            "10/10 - 0s - loss: 13.4137 - mae: 2.7565 - val_loss: 22.2892 - val_mae: 3.4041\n",
            "Epoch 138/200\n",
            "10/10 - 0s - loss: 14.4115 - mae: 2.8036 - val_loss: 25.9220 - val_mae: 3.7277\n",
            "Epoch 139/200\n",
            "10/10 - 0s - loss: 13.0653 - mae: 2.7451 - val_loss: 34.3679 - val_mae: 4.6290\n",
            "Epoch 140/200\n",
            "10/10 - 0s - loss: 17.8305 - mae: 3.2088 - val_loss: 27.2029 - val_mae: 4.0050\n",
            "Epoch 141/200\n",
            "10/10 - 0s - loss: 16.2106 - mae: 3.1137 - val_loss: 33.6049 - val_mae: 4.3999\n",
            "Epoch 142/200\n",
            "10/10 - 0s - loss: 15.6165 - mae: 3.0523 - val_loss: 25.7311 - val_mae: 3.9743\n",
            "Epoch 143/200\n",
            "10/10 - 0s - loss: 18.3721 - mae: 3.1443 - val_loss: 38.4489 - val_mae: 5.1173\n",
            "Epoch 144/200\n",
            "10/10 - 0s - loss: 19.4599 - mae: 3.2322 - val_loss: 30.5971 - val_mae: 3.9646\n",
            "Epoch 145/200\n",
            "10/10 - 0s - loss: 13.8042 - mae: 2.8405 - val_loss: 25.3328 - val_mae: 3.7287\n",
            "Epoch 146/200\n",
            "10/10 - 0s - loss: 15.5140 - mae: 2.9896 - val_loss: 25.9228 - val_mae: 3.8629\n",
            "Epoch 147/200\n",
            "10/10 - 0s - loss: 14.7857 - mae: 2.9189 - val_loss: 23.9090 - val_mae: 3.5064\n",
            "Epoch 148/200\n",
            "10/10 - 0s - loss: 16.8434 - mae: 3.0728 - val_loss: 25.9876 - val_mae: 3.3651\n",
            "Epoch 149/200\n",
            "10/10 - 0s - loss: 14.8028 - mae: 2.9250 - val_loss: 24.5369 - val_mae: 3.7186\n",
            "Epoch 150/200\n",
            "10/10 - 0s - loss: 13.5561 - mae: 2.7876 - val_loss: 26.4494 - val_mae: 3.6314\n",
            "Epoch 151/200\n",
            "10/10 - 0s - loss: 17.3599 - mae: 3.1136 - val_loss: 24.5783 - val_mae: 3.4578\n",
            "Epoch 152/200\n",
            "10/10 - 0s - loss: 14.6222 - mae: 2.8068 - val_loss: 23.5555 - val_mae: 3.4253\n",
            "Epoch 153/200\n",
            "10/10 - 0s - loss: 13.4918 - mae: 2.7936 - val_loss: 22.8728 - val_mae: 3.3968\n",
            "Epoch 154/200\n",
            "10/10 - 0s - loss: 13.9278 - mae: 2.7826 - val_loss: 24.1875 - val_mae: 3.4563\n",
            "Epoch 155/200\n",
            "10/10 - 0s - loss: 14.2283 - mae: 2.7831 - val_loss: 30.5591 - val_mae: 4.1739\n",
            "Epoch 156/200\n",
            "10/10 - 0s - loss: 17.2202 - mae: 3.0834 - val_loss: 24.9853 - val_mae: 3.4275\n",
            "Epoch 157/200\n",
            "10/10 - 0s - loss: 12.5130 - mae: 2.5643 - val_loss: 22.9265 - val_mae: 3.2753\n",
            "Epoch 158/200\n",
            "10/10 - 0s - loss: 11.8111 - mae: 2.5695 - val_loss: 23.0026 - val_mae: 3.3943\n",
            "Epoch 159/200\n",
            "10/10 - 0s - loss: 11.8881 - mae: 2.5367 - val_loss: 23.9115 - val_mae: 3.3657\n",
            "Epoch 160/200\n",
            "10/10 - 0s - loss: 14.3931 - mae: 2.8596 - val_loss: 27.9390 - val_mae: 3.7387\n",
            "Epoch 161/200\n",
            "10/10 - 0s - loss: 13.5040 - mae: 2.6930 - val_loss: 23.0560 - val_mae: 3.2040\n",
            "Epoch 162/200\n",
            "10/10 - 0s - loss: 13.1062 - mae: 2.6926 - val_loss: 27.9056 - val_mae: 3.6106\n",
            "Epoch 163/200\n",
            "10/10 - 0s - loss: 13.8289 - mae: 2.8799 - val_loss: 23.4599 - val_mae: 3.3573\n",
            "Epoch 164/200\n",
            "10/10 - 0s - loss: 14.5408 - mae: 2.8886 - val_loss: 24.1212 - val_mae: 3.5465\n",
            "Epoch 165/200\n",
            "10/10 - 0s - loss: 14.9143 - mae: 2.9537 - val_loss: 24.3308 - val_mae: 3.7084\n",
            "Epoch 166/200\n",
            "10/10 - 0s - loss: 12.5658 - mae: 2.6314 - val_loss: 23.5804 - val_mae: 3.4135\n",
            "Epoch 167/200\n",
            "10/10 - 0s - loss: 12.5395 - mae: 2.6711 - val_loss: 28.0324 - val_mae: 3.9189\n",
            "Epoch 168/200\n",
            "10/10 - 0s - loss: 11.9952 - mae: 2.6500 - val_loss: 23.2149 - val_mae: 3.4183\n",
            "Epoch 169/200\n",
            "10/10 - 0s - loss: 11.9211 - mae: 2.5541 - val_loss: 25.7688 - val_mae: 3.6403\n",
            "Epoch 170/200\n",
            "10/10 - 0s - loss: 11.6944 - mae: 2.4965 - val_loss: 22.9474 - val_mae: 3.4773\n",
            "Epoch 171/200\n",
            "10/10 - 0s - loss: 11.8885 - mae: 2.5750 - val_loss: 24.9229 - val_mae: 3.5273\n",
            "Epoch 172/200\n",
            "10/10 - 0s - loss: 12.8892 - mae: 2.7070 - val_loss: 24.0795 - val_mae: 3.3820\n",
            "Epoch 173/200\n",
            "10/10 - 0s - loss: 11.6129 - mae: 2.5658 - val_loss: 23.5171 - val_mae: 3.6145\n",
            "Epoch 174/200\n",
            "10/10 - 0s - loss: 12.1771 - mae: 2.5855 - val_loss: 22.4956 - val_mae: 3.3456\n",
            "Epoch 175/200\n",
            "10/10 - 0s - loss: 11.8018 - mae: 2.5892 - val_loss: 23.2246 - val_mae: 3.4120\n",
            "Epoch 176/200\n",
            "10/10 - 0s - loss: 11.7626 - mae: 2.5334 - val_loss: 27.0667 - val_mae: 3.7704\n",
            "Epoch 177/200\n",
            "10/10 - 0s - loss: 12.8640 - mae: 2.6268 - val_loss: 20.2857 - val_mae: 3.1187\n",
            "Epoch 178/200\n",
            "10/10 - 0s - loss: 11.9484 - mae: 2.5198 - val_loss: 24.7557 - val_mae: 3.5343\n",
            "Epoch 179/200\n",
            "10/10 - 0s - loss: 15.2991 - mae: 2.8976 - val_loss: 33.3896 - val_mae: 4.1026\n",
            "Epoch 180/200\n",
            "10/10 - 0s - loss: 15.7764 - mae: 3.0733 - val_loss: 24.9195 - val_mae: 3.6291\n",
            "Epoch 181/200\n",
            "10/10 - 0s - loss: 14.7742 - mae: 2.9062 - val_loss: 24.3986 - val_mae: 3.6027\n",
            "Epoch 182/200\n",
            "10/10 - 0s - loss: 14.6867 - mae: 2.7320 - val_loss: 24.4274 - val_mae: 3.5035\n",
            "Epoch 183/200\n",
            "10/10 - 0s - loss: 13.2953 - mae: 2.6850 - val_loss: 22.8879 - val_mae: 3.3613\n",
            "Epoch 184/200\n",
            "10/10 - 0s - loss: 13.0254 - mae: 2.6829 - val_loss: 25.5509 - val_mae: 3.6762\n",
            "Epoch 185/200\n",
            "10/10 - 0s - loss: 11.7344 - mae: 2.4734 - val_loss: 23.2778 - val_mae: 3.3075\n",
            "Epoch 186/200\n",
            "10/10 - 0s - loss: 12.6944 - mae: 2.6041 - val_loss: 23.1278 - val_mae: 3.5163\n",
            "Epoch 187/200\n",
            "10/10 - 0s - loss: 13.4560 - mae: 2.6699 - val_loss: 28.3690 - val_mae: 3.9096\n",
            "Epoch 188/200\n",
            "10/10 - 0s - loss: 12.0313 - mae: 2.6126 - val_loss: 22.9994 - val_mae: 3.5328\n",
            "Epoch 189/200\n",
            "10/10 - 0s - loss: 12.0845 - mae: 2.5557 - val_loss: 27.3730 - val_mae: 3.7267\n",
            "Epoch 190/200\n",
            "10/10 - 0s - loss: 11.4137 - mae: 2.5124 - val_loss: 26.3434 - val_mae: 3.8001\n",
            "Epoch 191/200\n",
            "10/10 - 0s - loss: 13.9854 - mae: 2.7376 - val_loss: 26.1715 - val_mae: 3.7332\n",
            "Epoch 192/200\n",
            "10/10 - 0s - loss: 11.9767 - mae: 2.5849 - val_loss: 21.9092 - val_mae: 3.2933\n",
            "Epoch 193/200\n",
            "10/10 - 0s - loss: 13.8726 - mae: 2.7502 - val_loss: 23.8286 - val_mae: 3.5120\n",
            "Epoch 194/200\n",
            "10/10 - 0s - loss: 11.7625 - mae: 2.5678 - val_loss: 21.0421 - val_mae: 3.3416\n",
            "Epoch 195/200\n",
            "10/10 - 0s - loss: 11.4030 - mae: 2.5098 - val_loss: 23.6374 - val_mae: 3.2516\n",
            "Epoch 196/200\n",
            "10/10 - 0s - loss: 12.6028 - mae: 2.6112 - val_loss: 27.0090 - val_mae: 3.6714\n",
            "Epoch 197/200\n",
            "10/10 - 0s - loss: 12.2249 - mae: 2.6267 - val_loss: 28.2890 - val_mae: 4.0268\n",
            "Epoch 198/200\n",
            "10/10 - 0s - loss: 13.9259 - mae: 2.8107 - val_loss: 25.8824 - val_mae: 3.8103\n",
            "Epoch 199/200\n",
            "10/10 - 0s - loss: 14.4314 - mae: 2.7242 - val_loss: 26.8794 - val_mae: 3.7136\n",
            "Epoch 200/200\n",
            "10/10 - 0s - loss: 12.5334 - mae: 2.7716 - val_loss: 23.4511 - val_mae: 3.2179\n"
          ],
          "name": "stdout"
        }
      ]
    },
    {
      "cell_type": "code",
      "metadata": {
        "colab": {
          "base_uri": "https://localhost:8080/",
          "height": 334
        },
        "id": "8HFsuyyOMynQ",
        "outputId": "c5a2673d-5633-4ebc-83ec-7a979124fbc7"
      },
      "source": [
        "import matplotlib.pyplot as plt\n",
        "\n",
        "def plot_loss_curve(total_epoch=10,start=1):\n",
        "  plt.figure(figsize=(5,5))\n",
        "  plt.plot(range(start,total_epoch+1),\n",
        "           history.history['loss'][start-1:total_epoch],\n",
        "           label='Train')\n",
        "  plt.plot(range(start,total_epoch+1),\n",
        "          history.history['val_loss'][start-1:total_epoch],\n",
        "          label='Validation')\n",
        "  plt.xlabel('Epochs')\n",
        "  plt.ylabel('mse')\n",
        "  plt.legend()\n",
        "  plt.show()\n",
        "\n",
        "plot_loss_curve(total_epoch=200,start=1)"
      ],
      "execution_count": null,
      "outputs": [
        {
          "output_type": "display_data",
          "data": {
            "image/png": "[encoded data removed]",
            "text/plain": [
              "<Figure size 360x360 with 1 Axes>"
            ]
          },
          "metadata": {
            "tags": [],
            "needs_background": "light"
          }
        }
      ]
    },
    {
      "cell_type": "code",
      "metadata": {
        "colab": {
          "base_uri": "https://localhost:8080/",
          "height": 334
        },
        "id": "bCxbI-H4N6uk",
        "outputId": "d976b49c-17bf-4052-9e34-69143a87eaa6"
      },
      "source": [
        "plot_loss_curve(total_epoch=200,start=20)"
      ],
      "execution_count": null,
      "outputs": [
        {
          "output_type": "display_data",
          "data": {
            "image/png": "[encoded data removed]",
            "text/plain": [
              "<Figure size 360x360 with 1 Axes>"
            ]
          },
          "metadata": {
            "tags": [],
            "needs_background": "light"
          }
        }
      ]
    },
    {
      "cell_type": "code",
      "metadata": {
        "id": "S4lZ8N23OM4T"
      },
      "source": [
        ""
      ],
      "execution_count": null,
      "outputs": []
    },
    {
      "cell_type": "code",
      "metadata": {
        "id": "A0wg3uZxN4Sh"
      },
      "source": [
        ""
      ],
      "execution_count": null,
      "outputs": []
    }
  ]
}