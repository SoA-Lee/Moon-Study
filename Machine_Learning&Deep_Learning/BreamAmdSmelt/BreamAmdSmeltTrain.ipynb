{
  "nbformat": 4,
  "nbformat_minor": 0,
  "metadata": {
    "colab": {
      "name": "BreamAmdSmeltTrain.ipynb",
      "provenance": [],
      "authorship_tag": "ABX9TyO4dMZ8e/YBnN8Zx+Y7YTBB",
      "include_colab_link": true
    },
    "kernelspec": {
      "name": "python3",
      "display_name": "Python 3"
    },
    "language_info": {
      "name": "python"
    }
  },
  "cells": [
    {
      "cell_type": "markdown",
      "metadata": {
        "id": "view-in-github",
        "colab_type": "text"
      },
      "source": [
        "<a href=\"https://colab.research.google.com/github/SoA-Lee/Moon-Study/blob/master/BreamAmdSmeltTrain.ipynb\" target=\"_parent\"><img src=\"https://colab.research.google.com/assets/colab-badge.svg\" alt=\"Open In Colab\"/></a>"
      ]
    },
    {
      "cell_type": "code",
      "metadata": {
        "id": "zTNIdvHpMxnz"
      },
      "source": [
        "fish_length = [25.4, 26.3, 26.5, 29.0, 29.0, 29.7, 29.7, 30.0, 30.0, 30.7, 31.0, 31.0, \n",
        "                31.5, 32.0, 32.0, 32.0, 33.0, 33.0, 33.5, 33.5, 34.0, 34.0, 34.5, 35.0, \n",
        "                35.0, 35.0, 35.0, 36.0, 36.0, 37.0, 38.5, 38.5, 39.5, 41.0, 41.0, 9.8, \n",
        "                10.5, 10.6, 11.0, 11.2, 11.3, 11.8, 11.8, 12.0, 12.2, 12.4, 13.0, 14.3, 15.0]\n",
        "fish_weight = [242.0, 290.0, 340.0, 363.0, 430.0, 450.0, 500.0, 390.0, 450.0, 500.0, 475.0, 500.0, \n",
        "                500.0, 340.0, 600.0, 600.0, 700.0, 700.0, 610.0, 650.0, 575.0, 685.0, 620.0, 680.0, \n",
        "                700.0, 725.0, 720.0, 714.0, 850.0, 1000.0, 920.0, 955.0, 925.0, 975.0, 950.0, 6.7, \n",
        "                7.5, 7.0, 9.7, 9.8, 8.7, 10.0, 9.9, 9.8, 12.2, 13.4, 12.2, 19.7, 19.9]"
      ],
      "execution_count": null,
      "outputs": []
    },
    {
      "cell_type": "code",
      "metadata": {
        "colab": {
          "base_uri": "https://localhost:8080/"
        },
        "id": "o5IFG4RGOVs4",
        "outputId": "1fdc4dd7-b968-4014-9f0f-d83f5cd8dc3b"
      },
      "source": [
        "import numpy as np\n",
        "fish_data = np.column_stack((fish_length, fish_weight)) #전달받은 리스트를 일렬로 세움.(2줄)\n",
        "fish_target = np.concatenate((np.ones(35), np.zeros(14))) #첫번째 차원(1차원)을 따라 배열 연결\n",
        "\n",
        "from sklearn.model_selection import train_test_split #전달되는 리스트나 배열을 비율에 맞게 훈련세트와 테스트 세트로 나누어줌.(섞어줌)\n",
        "train_input, test_input, train_target, test_target = train_test_split(fish_data, fish_target, random_state =42)\n",
        "print(train_input.shape, test_input.shape)\n",
        "\n",
        "train_input, test_input, train_target, test_target = train_test_split(fish_data, fish_target, stratify=fish_target, random_state =42) \n",
        "#13개의 테스트 세트 중에 10개의 도미, 3개의 빙어()3.3:1, 실제(도미 35, 빙어 14, 2,5:1)\n",
        "#stratify 매개변수에 타깃 데이터를 전달하면 비율에 맞게 데이터 나눔.\n",
        "print(test_target) #빙어가 하나 늘어(2.25:1)"
      ],
      "execution_count": null,
      "outputs": [
        {
          "output_type": "stream",
          "text": [
            "(36, 2) (13, 2)\n",
            "[0. 0. 1. 0. 1. 0. 1. 1. 1. 1. 1. 1. 1.]\n"
          ],
          "name": "stdout"
        }
      ]
    },
    {
      "cell_type": "code",
      "metadata": {
        "colab": {
          "base_uri": "https://localhost:8080/"
        },
        "id": "VEGNv78eZ5mV",
        "outputId": "40211dde-5d05-42c0-ad62-1fa5a7ce00a3"
      },
      "source": [
        "from sklearn.neighbors import KNeighborsClassifier\n",
        "kn = KNeighborsClassifier()\n",
        "kn.fit(train_input,train_target)\n",
        "kn.score(test_input,test_target)\n",
        "\n",
        "print(kn.predict([[25,150]])) #도미로 나와야하는데 빙어가 나옴."
      ],
      "execution_count": null,
      "outputs": [
        {
          "output_type": "stream",
          "text": [
            "[0.]\n"
          ],
          "name": "stdout"
        }
      ]
    },
    {
      "cell_type": "code",
      "metadata": {
        "colab": {
          "base_uri": "https://localhost:8080/",
          "height": 401
        },
        "id": "_OUgYEA2dBgQ",
        "outputId": "39d3fe4c-190d-4823-bc2a-12ec19dd8864"
      },
      "source": [
        "import matplotlib.pyplot as plt\n",
        "\n",
        "plt.scatter(train_input[:,0],train_input[:,1]) #[행,렬]\n",
        "plt.scatter(25,150,marker='^') #매개변수 모양 지정\n",
        "plt.scatter(train_input[indexes,0],train_input[indexes,1],marker=\"D\") #마름모 표현, 가까운 5개.\n",
        "plt.xlim((0,1000)) #x축 범위를 동일하게 0~1000으로 설정\n",
        "plt.xlabel('length')\n",
        "plt.ylabel('weighgt')\n",
        "plt.show()\n",
        "\n",
        "print(train_input[indexes])\n",
        "print(train_target[indexes])\n",
        "print(distances) #거리 출력력"
      ],
      "execution_count": null,
      "outputs": [
        {
          "output_type": "display_data",
          "data": {
            "image/png": "[encoded data removed]",
            "text/plain": [
              "<Figure size 432x288 with 1 Axes>"
            ]
          },
          "metadata": {
            "tags": [],
            "needs_background": "light"
          }
        },
        {
          "output_type": "stream",
          "text": [
            "[[[ 25.4 242. ]\n",
            "  [ 15.   19.9]\n",
            "  [ 14.3  19.7]\n",
            "  [ 13.   12.2]\n",
            "  [ 12.2  12.2]]]\n",
            "[[1. 0. 0. 0. 0.]]\n",
            "[[ 92.00086956 130.48375378 130.73859415 138.32150953 138.39320793]]\n"
          ],
          "name": "stdout"
        }
      ]
    },
    {
      "cell_type": "code",
      "metadata": {
        "colab": {
          "base_uri": "https://localhost:8080/",
          "height": 297
        },
        "id": "LBKKfCfjeLe6",
        "outputId": "d315eeff-c40f-4495-c9b4-90f76755c9e6"
      },
      "source": [
        "mean = np.mean(train_input, axis=0) #평균 계산\n",
        "std = np.std(train_input, axis = 0) #표준편차\n",
        "print(mean, std)\n",
        "train_scaled = (train_input-mean) /std #브로드캐스팅\n",
        "\n",
        "new = ([25,150]-mean)/std\n",
        "\n",
        "\n",
        "plt.scatter(train_scaled[:,0], train_scaled[:,1])\n",
        "plt.scatter(new[0],new[1],marker=\"^\")\n",
        "plt.xlabel('length')\n",
        "plt.ylabel('weight')\n",
        "plt.show()"
      ],
      "execution_count": null,
      "outputs": [
        {
          "output_type": "stream",
          "text": [
            "[ 27.29722222 454.09722222] [  9.98244253 323.29893931]\n"
          ],
          "name": "stdout"
        },
        {
          "output_type": "display_data",
          "data": {
            "image/png": "[encoded data removed]",
            "text/plain": [
              "<Figure size 432x288 with 1 Axes>"
            ]
          },
          "metadata": {
            "tags": [],
            "needs_background": "light"
          }
        }
      ]
    },
    {
      "cell_type": "code",
      "metadata": {
        "colab": {
          "base_uri": "https://localhost:8080/",
          "height": 133
        },
        "id": "S90Z9F-2hbvs",
        "outputId": "6577759c-57fc-4a3e-bd78-b173f4c8e3c2"
      },
      "source": [
        "kn.fit(train_scaled, train_target)\n",
        "test_scaled=(test_input-mean)/std\n",
        "kn.score(test_scaled, test_target)\n",
        "print(kn.predict([new])\n",
        "\n",
        "distances, indexes = kn.kneighbors([new])\n",
        "plt.scatter(train_scaled[:,0],train_scaled[:,1]) #[행,렬]\n",
        "plt.scatter(new[0], new[1],marker=\"^\")\n",
        "ple.scatter(train_scaled[indexes,0], train_scaled[indexex,1],marker=\"D\")\n",
        "plt.xlabel('length')\n",
        "plt.ylabel('weight')\n",
        "plt.show()"
      ],
      "execution_count": null,
      "outputs": [
        {
          "output_type": "error",
          "ename": "SyntaxError",
          "evalue": "ignored",
          "traceback": [
            "\u001b[0;36m  File \u001b[0;32m\"<ipython-input-108-9964dae28697>\"\u001b[0;36m, line \u001b[0;32m6\u001b[0m\n\u001b[0;31m    distances, indexes = kn.kneighbors([new])\u001b[0m\n\u001b[0m            ^\u001b[0m\n\u001b[0;31mSyntaxError\u001b[0m\u001b[0;31m:\u001b[0m invalid syntax\n"
          ]
        }
      ]
    },
    {
      "cell_type": "code",
      "metadata": {
        "id": "EcIUbvhvkt2V"
      },
      "source": [
        ""
      ],
      "execution_count": null,
      "outputs": []
    },
    {
      "cell_type": "code",
      "metadata": {
        "id": "QneAIttkd1cL"
      },
      "source": [
        ""
      ],
      "execution_count": null,
      "outputs": []
    },
    {
      "cell_type": "code",
      "metadata": {
        "id": "D-023LukdhdV"
      },
      "source": [
        ""
      ],
      "execution_count": null,
      "outputs": []
    }
  ]
}
