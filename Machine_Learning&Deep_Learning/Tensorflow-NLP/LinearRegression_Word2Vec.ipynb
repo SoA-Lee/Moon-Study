{
 "cells": [
  {
   "cell_type": "markdown",
   "id": "f6283076",
   "metadata": {},
   "source": [
    "# Word2Vec Feature Example"
   ]
  },
  {
   "cell_type": "code",
   "execution_count": 1,
   "id": "a171d161",
   "metadata": {},
   "outputs": [],
   "source": [
    "import os\n",
    "import re\n",
    "\n",
    "import pandas as pd\n",
    "import numpy as np\n",
    "\n",
    "from bs4 import BeautifulSoup\n",
    "from nltk.corpus import stopwords\n",
    "from nltk.tokenize import word_tokenize"
   ]
  },
  {
   "cell_type": "code",
   "execution_count": 2,
   "id": "fa0c160d",
   "metadata": {},
   "outputs": [],
   "source": [
    "DATA_IN_PATH = './data_in/'\n",
    "TRAIN_CLEAN_DATA = 'train_clean.csv'\n",
    "\n",
    "RANDOM_SEED = 42\n",
    "TEST_SPLIT = 0.2"
   ]
  },
  {
   "cell_type": "code",
   "execution_count": 3,
   "id": "bed15be1",
   "metadata": {},
   "outputs": [],
   "source": [
    "train_data = pd.read_csv(DATA_IN_PATH + TRAIN_CLEAN_DATA)"
   ]
  },
  {
   "cell_type": "code",
   "execution_count": 4,
   "id": "f0f8ada5",
   "metadata": {},
   "outputs": [],
   "source": [
    "reviews = list(train_data['review'])\n",
    "sentiments = list(train_data['sentiment'])"
   ]
  },
  {
   "cell_type": "code",
   "execution_count": 5,
   "id": "87689d03",
   "metadata": {},
   "outputs": [],
   "source": [
    "sentences = []\n",
    "for review in reviews:\n",
    "    sentences.append(review.split())"
   ]
  },
  {
   "cell_type": "code",
   "execution_count": 6,
   "id": "4fe4f069",
   "metadata": {},
   "outputs": [],
   "source": [
    "num_features = 300    \n",
    "min_word_count = 40   \n",
    "num_workers = 4       \n",
    "context = 10          \n",
    "downsampling = 1e-3 "
   ]
  },
  {
   "cell_type": "code",
   "execution_count": 7,
   "id": "f6446e8b",
   "metadata": {},
   "outputs": [],
   "source": [
    "import logging\n",
    "logging.basicConfig(format='%(asctime)s : %(levelname)s : %(message)s',\\\n",
    "   level=logging.INFO)"
   ]
  },
  {
   "cell_type": "code",
   "execution_count": 11,
   "id": "3f3c71f5",
   "metadata": {},
   "outputs": [
    {
     "name": "stderr",
     "output_type": "stream",
     "text": [
      "2021-10-23 14:43:08,465 : INFO : collecting all words and their counts\n",
      "2021-10-23 14:43:08,468 : INFO : PROGRESS: at sentence #0, processed 0 words, keeping 0 word types\n",
      "2021-10-23 14:43:08,668 : INFO : PROGRESS: at sentence #10000, processed 1205223 words, keeping 51374 word types\n",
      "2021-10-23 14:43:08,854 : INFO : PROGRESS: at sentence #20000, processed 2396605 words, keeping 67660 word types\n",
      "2021-10-23 14:43:08,964 : INFO : collected 74065 word types from a corpus of 2988089 raw words and 25000 sentences\n",
      "2021-10-23 14:43:08,964 : INFO : Creating a fresh vocabulary\n",
      "2021-10-23 14:43:09,015 : INFO : Word2Vec lifecycle event {'msg': 'effective_min_count=40 retains 8160 unique words (11.017349625329103%% of original 74065, drops 65905)', 'datetime': '2021-10-23T14:43:09.015660', 'gensim': '4.1.2', 'python': '3.8.11 (default, Aug  3 2021, 06:49:12) [MSC v.1916 64 bit (AMD64)]', 'platform': 'Windows-10-10.0.19042-SP0', 'event': 'prepare_vocab'}\n",
      "2021-10-23 14:43:09,015 : INFO : Word2Vec lifecycle event {'msg': 'effective_min_count=40 leaves 2627273 word corpus (87.92485765986221%% of original 2988089, drops 360816)', 'datetime': '2021-10-23T14:43:09.015660', 'gensim': '4.1.2', 'python': '3.8.11 (default, Aug  3 2021, 06:49:12) [MSC v.1916 64 bit (AMD64)]', 'platform': 'Windows-10-10.0.19042-SP0', 'event': 'prepare_vocab'}\n",
      "2021-10-23 14:43:09,074 : INFO : deleting the raw counts dictionary of 74065 items\n",
      "2021-10-23 14:43:09,077 : INFO : sample=0.001 downsamples 30 most-common words\n",
      "2021-10-23 14:43:09,078 : INFO : Word2Vec lifecycle event {'msg': 'downsampling leaves estimated 2494384.49928802 word corpus (94.9%% of prior 2627273)', 'datetime': '2021-10-23T14:43:09.078897', 'gensim': '4.1.2', 'python': '3.8.11 (default, Aug  3 2021, 06:49:12) [MSC v.1916 64 bit (AMD64)]', 'platform': 'Windows-10-10.0.19042-SP0', 'event': 'prepare_vocab'}\n",
      "2021-10-23 14:43:09,146 : INFO : estimated required memory for 8160 words and 300 dimensions: 23664000 bytes\n",
      "2021-10-23 14:43:09,146 : INFO : resetting layer weights\n",
      "2021-10-23 14:43:09,177 : INFO : Word2Vec lifecycle event {'update': False, 'trim_rule': 'None', 'datetime': '2021-10-23T14:43:09.177509', 'gensim': '4.1.2', 'python': '3.8.11 (default, Aug  3 2021, 06:49:12) [MSC v.1916 64 bit (AMD64)]', 'platform': 'Windows-10-10.0.19042-SP0', 'event': 'build_vocab'}\n",
      "2021-10-23 14:43:09,179 : INFO : Word2Vec lifecycle event {'msg': 'training model with 4 workers on 8160 vocabulary and 300 features, using sg=0 hs=0 sample=0.001 negative=5 window=10 shrink_windows=True', 'datetime': '2021-10-23T14:43:09.179505', 'gensim': '4.1.2', 'python': '3.8.11 (default, Aug  3 2021, 06:49:12) [MSC v.1916 64 bit (AMD64)]', 'platform': 'Windows-10-10.0.19042-SP0', 'event': 'train'}\n",
      "2021-10-23 14:43:10,184 : INFO : EPOCH 1 - PROGRESS: at 35.08% examples, 884174 words/s, in_qsize 7, out_qsize 0\n",
      "2021-10-23 14:43:11,203 : INFO : EPOCH 1 - PROGRESS: at 65.10% examples, 807871 words/s, in_qsize 7, out_qsize 0\n",
      "2021-10-23 14:43:12,051 : INFO : worker thread finished; awaiting finish of 3 more threads\n",
      "2021-10-23 14:43:12,072 : INFO : worker thread finished; awaiting finish of 2 more threads\n",
      "2021-10-23 14:43:12,074 : INFO : worker thread finished; awaiting finish of 1 more threads\n",
      "2021-10-23 14:43:12,081 : INFO : worker thread finished; awaiting finish of 0 more threads\n",
      "2021-10-23 14:43:12,082 : INFO : EPOCH - 1 : training on 2988089 raw words (2494753 effective words) took 2.9s, 860902 effective words/s\n",
      "2021-10-23 14:43:13,086 : INFO : EPOCH 2 - PROGRESS: at 34.76% examples, 871475 words/s, in_qsize 7, out_qsize 0\n",
      "2021-10-23 14:43:14,092 : INFO : EPOCH 2 - PROGRESS: at 74.94% examples, 934353 words/s, in_qsize 7, out_qsize 0\n",
      "2021-10-23 14:43:14,684 : INFO : worker thread finished; awaiting finish of 3 more threads\n",
      "2021-10-23 14:43:14,684 : INFO : worker thread finished; awaiting finish of 2 more threads\n",
      "2021-10-23 14:43:14,707 : INFO : worker thread finished; awaiting finish of 1 more threads\n",
      "2021-10-23 14:43:14,729 : INFO : worker thread finished; awaiting finish of 0 more threads\n",
      "2021-10-23 14:43:14,730 : INFO : EPOCH - 2 : training on 2988089 raw words (2494465 effective words) took 2.6s, 943825 effective words/s\n",
      "2021-10-23 14:43:15,740 : INFO : EPOCH 3 - PROGRESS: at 34.78% examples, 871705 words/s, in_qsize 7, out_qsize 0\n",
      "2021-10-23 14:43:16,741 : INFO : EPOCH 3 - PROGRESS: at 71.00% examples, 887337 words/s, in_qsize 7, out_qsize 0\n",
      "2021-10-23 14:43:17,440 : INFO : worker thread finished; awaiting finish of 3 more threads\n",
      "2021-10-23 14:43:17,463 : INFO : worker thread finished; awaiting finish of 2 more threads\n",
      "2021-10-23 14:43:17,466 : INFO : worker thread finished; awaiting finish of 1 more threads\n",
      "2021-10-23 14:43:17,482 : INFO : worker thread finished; awaiting finish of 0 more threads\n",
      "2021-10-23 14:43:17,483 : INFO : EPOCH - 3 : training on 2988089 raw words (2494626 effective words) took 2.7s, 907780 effective words/s\n",
      "2021-10-23 14:43:18,487 : INFO : EPOCH 4 - PROGRESS: at 39.47% examples, 980266 words/s, in_qsize 7, out_qsize 0\n",
      "2021-10-23 14:43:19,491 : INFO : EPOCH 4 - PROGRESS: at 81.13% examples, 1006052 words/s, in_qsize 7, out_qsize 0\n",
      "2021-10-23 14:43:19,945 : INFO : worker thread finished; awaiting finish of 3 more threads\n",
      "2021-10-23 14:43:19,959 : INFO : worker thread finished; awaiting finish of 2 more threads\n",
      "2021-10-23 14:43:19,963 : INFO : worker thread finished; awaiting finish of 1 more threads\n",
      "2021-10-23 14:43:19,978 : INFO : worker thread finished; awaiting finish of 0 more threads\n",
      "2021-10-23 14:43:19,978 : INFO : EPOCH - 4 : training on 2988089 raw words (2494103 effective words) took 2.5s, 1000850 effective words/s\n",
      "2021-10-23 14:43:20,972 : INFO : EPOCH 5 - PROGRESS: at 38.76% examples, 975561 words/s, in_qsize 7, out_qsize 0\n",
      "2021-10-23 14:43:21,981 : INFO : EPOCH 5 - PROGRESS: at 80.13% examples, 996839 words/s, in_qsize 7, out_qsize 0\n",
      "2021-10-23 14:43:22,460 : INFO : worker thread finished; awaiting finish of 3 more threads\n",
      "2021-10-23 14:43:22,460 : INFO : worker thread finished; awaiting finish of 2 more threads\n",
      "2021-10-23 14:43:22,479 : INFO : worker thread finished; awaiting finish of 1 more threads\n",
      "2021-10-23 14:43:22,483 : INFO : worker thread finished; awaiting finish of 0 more threads\n",
      "2021-10-23 14:43:22,484 : INFO : EPOCH - 5 : training on 2988089 raw words (2494223 effective words) took 2.5s, 997297 effective words/s\n",
      "2021-10-23 14:43:22,485 : INFO : Word2Vec lifecycle event {'msg': 'training on 14940445 raw words (12472170 effective words) took 13.3s, 937456 effective words/s', 'datetime': '2021-10-23T14:43:22.485795', 'gensim': '4.1.2', 'python': '3.8.11 (default, Aug  3 2021, 06:49:12) [MSC v.1916 64 bit (AMD64)]', 'platform': 'Windows-10-10.0.19042-SP0', 'event': 'train'}\n",
      "2021-10-23 14:43:22,485 : INFO : Word2Vec lifecycle event {'params': 'Word2Vec(vocab=8160, vector_size=300, alpha=0.025)', 'datetime': '2021-10-23T14:43:22.485795', 'gensim': '4.1.2', 'python': '3.8.11 (default, Aug  3 2021, 06:49:12) [MSC v.1916 64 bit (AMD64)]', 'platform': 'Windows-10-10.0.19042-SP0', 'event': 'created'}\n"
     ]
    }
   ],
   "source": [
    "from gensim.models import word2vec\n",
    "\n",
    "model = word2vec.Word2Vec(sentences, \n",
    "                          workers=num_workers, \n",
    "                          vector_size=num_features, # size->vector_size\n",
    "                          min_count = min_word_count, \n",
    "                          window = context, \n",
    "                          sample = downsampling)"
   ]
  },
  {
   "cell_type": "code",
   "execution_count": 12,
   "id": "9b792909",
   "metadata": {},
   "outputs": [],
   "source": [
    "def get_features(words, model, num_features):\n",
    "    # 출력 벡터 초기화\n",
    "    feature_vector = np.zeros((num_features),dtype=np.float32)\n",
    "\n",
    "    num_words = 0\n",
    "    # 어휘 사전 준비\n",
    "    index2word_set = set(model.wv.index2word)\n",
    "\n",
    "    for w in words:\n",
    "        if w in index2word_set:\n",
    "            num_words += 1\n",
    "            # 사전에 해당하는 단어에 대해 단어 벡터를 더함\n",
    "            feature_vector = np.add(feature_vector, model[w])\n",
    "    \n",
    "    # 문장의 단어 수만큼 나누어 단어 벡터의 평균값을 문장 벡터로 함\n",
    "    feature_vector = np.divide(feature_vector, num_words)\n",
    "    return feature_vector"
   ]
  },
  {
   "cell_type": "code",
   "execution_count": 13,
   "id": "336482ff",
   "metadata": {},
   "outputs": [],
   "source": [
    "def get_dataset(reviews, model, num_features):\n",
    "    dataset = list()\n",
    "\n",
    "    for s in reviews:\n",
    "        dataset.append(get_features(s, model, num_features))\n",
    "\n",
    "    reviewFeatureVecs = np.stack(dataset)\n",
    "    \n",
    "    return reviewFeatureVecs"
   ]
  },
  {
   "cell_type": "code",
   "execution_count": 17,
   "id": "8462f758",
   "metadata": {},
   "outputs": [
    {
     "ename": "AttributeError",
     "evalue": "The index2word attribute has been replaced by index_to_key since Gensim 4.0.0.\nSee https://github.com/RaRe-Technologies/gensim/wiki/Migrating-from-Gensim-3.x-to-4",
     "output_type": "error",
     "traceback": [
      "\u001b[1;31m---------------------------------------------------------------------------\u001b[0m",
      "\u001b[1;31mAttributeError\u001b[0m                            Traceback (most recent call last)",
      "\u001b[1;32mC:\\Users\\Public\\Documents\\ESTsoft\\CreatorTemp/ipykernel_6308/2352183645.py\u001b[0m in \u001b[0;36m<module>\u001b[1;34m\u001b[0m\n\u001b[1;32m----> 1\u001b[1;33m \u001b[0mtest_data_vecs\u001b[0m \u001b[1;33m=\u001b[0m \u001b[0mget_dataset\u001b[0m\u001b[1;33m(\u001b[0m\u001b[0msentences\u001b[0m\u001b[1;33m,\u001b[0m \u001b[0mmodel\u001b[0m\u001b[1;33m,\u001b[0m \u001b[0mnum_features\u001b[0m\u001b[1;33m)\u001b[0m\u001b[1;33m\u001b[0m\u001b[1;33m\u001b[0m\u001b[0m\n\u001b[0m",
      "\u001b[1;32mC:\\Users\\Public\\Documents\\ESTsoft\\CreatorTemp/ipykernel_6308/228800856.py\u001b[0m in \u001b[0;36mget_dataset\u001b[1;34m(reviews, model, num_features)\u001b[0m\n\u001b[0;32m      3\u001b[0m \u001b[1;33m\u001b[0m\u001b[0m\n\u001b[0;32m      4\u001b[0m     \u001b[1;32mfor\u001b[0m \u001b[0ms\u001b[0m \u001b[1;32min\u001b[0m \u001b[0mreviews\u001b[0m\u001b[1;33m:\u001b[0m\u001b[1;33m\u001b[0m\u001b[1;33m\u001b[0m\u001b[0m\n\u001b[1;32m----> 5\u001b[1;33m         \u001b[0mdataset\u001b[0m\u001b[1;33m.\u001b[0m\u001b[0mappend\u001b[0m\u001b[1;33m(\u001b[0m\u001b[0mget_features\u001b[0m\u001b[1;33m(\u001b[0m\u001b[0ms\u001b[0m\u001b[1;33m,\u001b[0m \u001b[0mmodel\u001b[0m\u001b[1;33m,\u001b[0m \u001b[0mnum_features\u001b[0m\u001b[1;33m)\u001b[0m\u001b[1;33m)\u001b[0m\u001b[1;33m\u001b[0m\u001b[1;33m\u001b[0m\u001b[0m\n\u001b[0m\u001b[0;32m      6\u001b[0m \u001b[1;33m\u001b[0m\u001b[0m\n\u001b[0;32m      7\u001b[0m     \u001b[0mreviewFeatureVecs\u001b[0m \u001b[1;33m=\u001b[0m \u001b[0mnp\u001b[0m\u001b[1;33m.\u001b[0m\u001b[0mstack\u001b[0m\u001b[1;33m(\u001b[0m\u001b[0mdataset\u001b[0m\u001b[1;33m)\u001b[0m\u001b[1;33m\u001b[0m\u001b[1;33m\u001b[0m\u001b[0m\n",
      "\u001b[1;32mC:\\Users\\Public\\Documents\\ESTsoft\\CreatorTemp/ipykernel_6308/320934123.py\u001b[0m in \u001b[0;36mget_features\u001b[1;34m(words, model, num_features)\u001b[0m\n\u001b[0;32m      5\u001b[0m     \u001b[0mnum_words\u001b[0m \u001b[1;33m=\u001b[0m \u001b[1;36m0\u001b[0m\u001b[1;33m\u001b[0m\u001b[1;33m\u001b[0m\u001b[0m\n\u001b[0;32m      6\u001b[0m     \u001b[1;31m# 어휘 사전 준비\u001b[0m\u001b[1;33m\u001b[0m\u001b[1;33m\u001b[0m\u001b[1;33m\u001b[0m\u001b[0m\n\u001b[1;32m----> 7\u001b[1;33m     \u001b[0mindex2word_set\u001b[0m \u001b[1;33m=\u001b[0m \u001b[0mset\u001b[0m\u001b[1;33m(\u001b[0m\u001b[0mmodel\u001b[0m\u001b[1;33m.\u001b[0m\u001b[0mwv\u001b[0m\u001b[1;33m.\u001b[0m\u001b[0mindex2word\u001b[0m\u001b[1;33m)\u001b[0m\u001b[1;33m\u001b[0m\u001b[1;33m\u001b[0m\u001b[0m\n\u001b[0m\u001b[0;32m      8\u001b[0m \u001b[1;33m\u001b[0m\u001b[0m\n\u001b[0;32m      9\u001b[0m     \u001b[1;32mfor\u001b[0m \u001b[0mw\u001b[0m \u001b[1;32min\u001b[0m \u001b[0mwords\u001b[0m\u001b[1;33m:\u001b[0m\u001b[1;33m\u001b[0m\u001b[1;33m\u001b[0m\u001b[0m\n",
      "\u001b[1;32m~\\anaconda3\\envs\\speechtext\\lib\\site-packages\\gensim\\models\\keyedvectors.py\u001b[0m in \u001b[0;36mindex2word\u001b[1;34m(self)\u001b[0m\n\u001b[0;32m    648\u001b[0m     \u001b[1;33m@\u001b[0m\u001b[0mproperty\u001b[0m\u001b[1;33m\u001b[0m\u001b[1;33m\u001b[0m\u001b[0m\n\u001b[0;32m    649\u001b[0m     \u001b[1;32mdef\u001b[0m \u001b[0mindex2word\u001b[0m\u001b[1;33m(\u001b[0m\u001b[0mself\u001b[0m\u001b[1;33m)\u001b[0m\u001b[1;33m:\u001b[0m\u001b[1;33m\u001b[0m\u001b[1;33m\u001b[0m\u001b[0m\n\u001b[1;32m--> 650\u001b[1;33m         raise AttributeError(\n\u001b[0m\u001b[0;32m    651\u001b[0m             \u001b[1;34m\"The index2word attribute has been replaced by index_to_key since Gensim 4.0.0.\\n\"\u001b[0m\u001b[1;33m\u001b[0m\u001b[1;33m\u001b[0m\u001b[0m\n\u001b[0;32m    652\u001b[0m             \u001b[1;34m\"See https://github.com/RaRe-Technologies/gensim/wiki/Migrating-from-Gensim-3.x-to-4\"\u001b[0m\u001b[1;33m\u001b[0m\u001b[1;33m\u001b[0m\u001b[0m\n",
      "\u001b[1;31mAttributeError\u001b[0m: The index2word attribute has been replaced by index_to_key since Gensim 4.0.0.\nSee https://github.com/RaRe-Technologies/gensim/wiki/Migrating-from-Gensim-3.x-to-4"
     ]
    }
   ],
   "source": [
    "# test_data_vecs = get_dataset(sentences, model, num_features)"
   ]
  },
  {
   "cell_type": "code",
   "execution_count": 18,
   "id": "abd93301",
   "metadata": {},
   "outputs": [
    {
     "ename": "NameError",
     "evalue": "name 'test_data_vecs' is not defined",
     "output_type": "error",
     "traceback": [
      "\u001b[1;31m---------------------------------------------------------------------------\u001b[0m",
      "\u001b[1;31mNameError\u001b[0m                                 Traceback (most recent call last)",
      "\u001b[1;32mC:\\Users\\Public\\Documents\\ESTsoft\\CreatorTemp/ipykernel_6308/168929782.py\u001b[0m in \u001b[0;36m<module>\u001b[1;34m\u001b[0m\n\u001b[0;32m      2\u001b[0m \u001b[1;32mimport\u001b[0m \u001b[0mnumpy\u001b[0m \u001b[1;32mas\u001b[0m \u001b[0mnp\u001b[0m\u001b[1;33m\u001b[0m\u001b[1;33m\u001b[0m\u001b[0m\n\u001b[0;32m      3\u001b[0m \u001b[1;33m\u001b[0m\u001b[0m\n\u001b[1;32m----> 4\u001b[1;33m \u001b[0mX\u001b[0m \u001b[1;33m=\u001b[0m \u001b[0mtest_data_vecs\u001b[0m\u001b[1;33m\u001b[0m\u001b[1;33m\u001b[0m\u001b[0m\n\u001b[0m\u001b[0;32m      5\u001b[0m \u001b[0my\u001b[0m \u001b[1;33m=\u001b[0m \u001b[0mnp\u001b[0m\u001b[1;33m.\u001b[0m\u001b[0marray\u001b[0m\u001b[1;33m(\u001b[0m\u001b[0msentiments\u001b[0m\u001b[1;33m)\u001b[0m\u001b[1;33m\u001b[0m\u001b[1;33m\u001b[0m\u001b[0m\n\u001b[0;32m      6\u001b[0m \u001b[1;33m\u001b[0m\u001b[0m\n",
      "\u001b[1;31mNameError\u001b[0m: name 'test_data_vecs' is not defined"
     ]
    }
   ],
   "source": [
    "from sklearn.model_selection import train_test_split\n",
    "import numpy as np\n",
    "\n",
    "# X = test_data_vecs\n",
    "# y = np.array(sentiments)\n",
    "\n",
    "# X_train, X_test, y_train, y_test = train_test_split(X, y, test_size=TEST_SPLIT, random_state=RANDOM_SEED)"
   ]
  },
  {
   "cell_type": "code",
   "execution_count": null,
   "id": "ad651afd",
   "metadata": {},
   "outputs": [],
   "source": [
    "from sklearn.linear_model import LogisticRegression\n",
    "\n",
    "#lgs = LogisticRegression(class_weight='balanced')\n",
    "# lgs.fit(X_train, y_train)"
   ]
  },
  {
   "cell_type": "code",
   "execution_count": null,
   "id": "943c3767",
   "metadata": {},
   "outputs": [],
   "source": [
    "print(\"Accuracy: %f\" % lgs.score(X_test, y_test)) "
   ]
  },
  {
   "cell_type": "code",
   "execution_count": null,
   "id": "d89c2d10",
   "metadata": {},
   "outputs": [],
   "source": [
    "TEST_CLEAN_DATA = 'test_clean.csv'\n",
    "\n",
    "test_data = pd.read_csv(DATA_IN_PATH + TEST_CLEAN_DATA)\n",
    "\n",
    "test_review = list(test_data['review'])\n",
    "test_data.head(5)"
   ]
  },
  {
   "cell_type": "code",
   "execution_count": null,
   "id": "9cf014ce",
   "metadata": {},
   "outputs": [],
   "source": [
    "test_sentences = list()\n",
    "for review in test_review:\n",
    "    test_sentences.append(review.split())"
   ]
  },
  {
   "cell_type": "code",
   "execution_count": null,
   "id": "08466097",
   "metadata": {},
   "outputs": [],
   "source": [
    "test_data_vecs = get_dataset(test_sentences, model, num_features)"
   ]
  },
  {
   "cell_type": "code",
   "execution_count": null,
   "id": "d18f8aa7",
   "metadata": {},
   "outputs": [],
   "source": [
    "DATA_OUT_PATH = './data_out/'\n",
    "\n",
    "test_predicted = lgs.predict(test_data_vecs)\n",
    "\n",
    "if not os.path.exists(DATA_OUT_PATH):\n",
    "    os.makedirs(DATA_OUT_PATH)\n",
    "    \n",
    "ids = list(test_data['id'])\n",
    "answer_dataset = pd.DataFrame({'id': ids, 'sentiment': test_predicted})\n",
    "answer_dataset.to_csv(DATA_OUT_PATH + 'lgs_w2v_answer.csv', index=False, quoting=3)"
   ]
  },
  {
   "cell_type": "code",
   "execution_count": null,
   "id": "42479394",
   "metadata": {},
   "outputs": [],
   "source": [
    "model_name = \"300features_40minwords_10context\"\n",
    "model.save(model_name)"
   ]
  }
 ],
 "metadata": {
  "kernelspec": {
   "display_name": "Python 3 (ipykernel)",
   "language": "python",
   "name": "python3"
  },
  "language_info": {
   "codemirror_mode": {
    "name": "ipython",
    "version": 3
   },
   "file_extension": ".py",
   "mimetype": "text/x-python",
   "name": "python",
   "nbconvert_exporter": "python",
   "pygments_lexer": "ipython3",
   "version": "3.8.11"
  }
 },
 "nbformat": 4,
 "nbformat_minor": 5
}
