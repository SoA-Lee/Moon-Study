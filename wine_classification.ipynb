{
  "nbformat": 4,
  "nbformat_minor": 0,
  "metadata": {
    "colab": {
      "name": "wine_classification.ipynb",
      "provenance": [],
      "authorship_tag": "ABX9TyMsly9XePpRya47q5PlvVjw",
      "include_colab_link": true
    },
    "kernelspec": {
      "name": "python3",
      "display_name": "Python 3"
    },
    "language_info": {
      "name": "python"
    }
  },
  "cells": [
    {
      "cell_type": "markdown",
      "metadata": {
        "id": "view-in-github",
        "colab_type": "text"
      },
      "source": [
        "<a href=\"https://colab.research.google.com/github/SoA-Lee/Moon-Study/blob/master/wine_classification.ipynb\" target=\"_parent\"><img src=\"https://colab.research.google.com/assets/colab-badge.svg\" alt=\"Open In Colab\"/></a>"
      ]
    },
    {
      "cell_type": "code",
      "metadata": {
        "colab": {
          "base_uri": "https://localhost:8080/"
        },
        "id": "Z0t5V93VPYaY",
        "outputId": "cfa6473b-6f01-4086-b0e2-07b74e7a344f"
      },
      "source": [
        "#구글 드라이브 마운드\n",
        "from google.colab import drive\n",
        "drive.mount('/gdrive/')"
      ],
      "execution_count": null,
      "outputs": [
        {
          "output_type": "stream",
          "text": [
            "Mounted at /gdrive/\n"
          ],
          "name": "stdout"
        }
      ]
    },
    {
      "cell_type": "code",
      "metadata": {
        "colab": {
          "base_uri": "https://localhost:8080/"
        },
        "id": "K52YjDdNPfaw",
        "outputId": "ed017c33-f213-4d78-daaf-110b4a889c13"
      },
      "source": [
        "#필수 라이브러리\n",
        "import pandas as pd\n",
        "import numpy as np\n",
        "import random\n",
        "import tensorflow as tf\n",
        "\n",
        "#랜덤 시드 고정\n",
        "SEED=12\n",
        "random.seed(SEED)\n",
        "np.random.seed(SEED)\n",
        "tf.random.set_seed(SEED)\n",
        "print(\"시드 고정:\", SEED)"
      ],
      "execution_count": null,
      "outputs": [
        {
          "output_type": "stream",
          "text": [
            "시드 고정: 12\n"
          ],
          "name": "stdout"
        }
      ]
    },
    {
      "cell_type": "code",
      "metadata": {
        "colab": {
          "base_uri": "https://localhost:8080/"
        },
        "id": "RPZA3bV8QAxn",
        "outputId": "ca5dbc58-55e1-4c44-cb57-690f82272980"
      },
      "source": [
        "#데이콘 사이트에서 다운로드한 csv 파일 읽어오기\n",
        "drive_path='/gdrive/My Drive/'\n",
        "\n",
        "train = pd.read_csv(drive_path+\"wine/train.csv\")\n",
        "test = pd.read_csv(drive_path+\"wine/test.csv\")\n",
        "submission = pd.read_csv(drive_path+\"wine/sample_submission.csv\")\n",
        "\n",
        "print(train.shape,test.shape,submission.shape)"
      ],
      "execution_count": null,
      "outputs": [
        {
          "output_type": "stream",
          "text": [
            "(5497, 14) (1000, 13) (1000, 2)\n"
          ],
          "name": "stdout"
        }
      ]
    },
    {
      "cell_type": "code",
      "metadata": {
        "colab": {
          "base_uri": "https://localhost:8080/",
          "height": 108
        },
        "id": "jtQR9jyLQf2K",
        "outputId": "3bac82fb-77af-444f-c8bb-e476c8d54937"
      },
      "source": [
        "train.head(2)"
      ],
      "execution_count": null,
      "outputs": [
        {
          "output_type": "execute_result",
          "data": {
            "text/html": [
              "<div>\n",
              "<style scoped>\n",
              "    .dataframe tbody tr th:only-of-type {\n",
              "        vertical-align: middle;\n",
              "    }\n",
              "\n",
              "    .dataframe tbody tr th {\n",
              "        vertical-align: top;\n",
              "    }\n",
              "\n",
              "    .dataframe thead th {\n",
              "        text-align: right;\n",
              "    }\n",
              "</style>\n",
              "<table border=\"1\" class=\"dataframe\">\n",
              "  <thead>\n",
              "    <tr style=\"text-align: right;\">\n",
              "      <th></th>\n",
              "      <th>index</th>\n",
              "      <th>quality</th>\n",
              "      <th>fixed acidity</th>\n",
              "      <th>volatile acidity</th>\n",
              "      <th>citric acid</th>\n",
              "      <th>residual sugar</th>\n",
              "      <th>chlorides</th>\n",
              "      <th>free sulfur dioxide</th>\n",
              "      <th>total sulfur dioxide</th>\n",
              "      <th>density</th>\n",
              "      <th>pH</th>\n",
              "      <th>sulphates</th>\n",
              "      <th>alcohol</th>\n",
              "      <th>type</th>\n",
              "    </tr>\n",
              "  </thead>\n",
              "  <tbody>\n",
              "    <tr>\n",
              "      <th>0</th>\n",
              "      <td>0</td>\n",
              "      <td>5</td>\n",
              "      <td>5.6</td>\n",
              "      <td>0.695</td>\n",
              "      <td>0.06</td>\n",
              "      <td>6.8</td>\n",
              "      <td>0.042</td>\n",
              "      <td>9.0</td>\n",
              "      <td>84.0</td>\n",
              "      <td>0.99432</td>\n",
              "      <td>3.44</td>\n",
              "      <td>0.44</td>\n",
              "      <td>10.2</td>\n",
              "      <td>white</td>\n",
              "    </tr>\n",
              "    <tr>\n",
              "      <th>1</th>\n",
              "      <td>1</td>\n",
              "      <td>5</td>\n",
              "      <td>8.8</td>\n",
              "      <td>0.610</td>\n",
              "      <td>0.14</td>\n",
              "      <td>2.4</td>\n",
              "      <td>0.067</td>\n",
              "      <td>10.0</td>\n",
              "      <td>42.0</td>\n",
              "      <td>0.99690</td>\n",
              "      <td>3.19</td>\n",
              "      <td>0.59</td>\n",
              "      <td>9.5</td>\n",
              "      <td>red</td>\n",
              "    </tr>\n",
              "  </tbody>\n",
              "</table>\n",
              "</div>"
            ],
            "text/plain": [
              "   index  quality  fixed acidity  ...  sulphates  alcohol   type\n",
              "0      0        5            5.6  ...       0.44     10.2  white\n",
              "1      1        5            8.8  ...       0.59      9.5    red\n",
              "\n",
              "[2 rows x 14 columns]"
            ]
          },
          "metadata": {
            "tags": []
          },
          "execution_count": 4
        }
      ]
    },
    {
      "cell_type": "code",
      "metadata": {
        "colab": {
          "base_uri": "https://localhost:8080/",
          "height": 198
        },
        "id": "oykmGM7aQivQ",
        "outputId": "48806ea9-f291-45f0-f8cb-9bd753e6a94a"
      },
      "source": [
        "submission.head()"
      ],
      "execution_count": null,
      "outputs": [
        {
          "output_type": "execute_result",
          "data": {
            "text/html": [
              "<div>\n",
              "<style scoped>\n",
              "    .dataframe tbody tr th:only-of-type {\n",
              "        vertical-align: middle;\n",
              "    }\n",
              "\n",
              "    .dataframe tbody tr th {\n",
              "        vertical-align: top;\n",
              "    }\n",
              "\n",
              "    .dataframe thead th {\n",
              "        text-align: right;\n",
              "    }\n",
              "</style>\n",
              "<table border=\"1\" class=\"dataframe\">\n",
              "  <thead>\n",
              "    <tr style=\"text-align: right;\">\n",
              "      <th></th>\n",
              "      <th>index</th>\n",
              "      <th>quality</th>\n",
              "    </tr>\n",
              "  </thead>\n",
              "  <tbody>\n",
              "    <tr>\n",
              "      <th>0</th>\n",
              "      <td>0</td>\n",
              "      <td>0</td>\n",
              "    </tr>\n",
              "    <tr>\n",
              "      <th>1</th>\n",
              "      <td>1</td>\n",
              "      <td>0</td>\n",
              "    </tr>\n",
              "    <tr>\n",
              "      <th>2</th>\n",
              "      <td>2</td>\n",
              "      <td>0</td>\n",
              "    </tr>\n",
              "    <tr>\n",
              "      <th>3</th>\n",
              "      <td>3</td>\n",
              "      <td>0</td>\n",
              "    </tr>\n",
              "    <tr>\n",
              "      <th>4</th>\n",
              "      <td>4</td>\n",
              "      <td>0</td>\n",
              "    </tr>\n",
              "  </tbody>\n",
              "</table>\n",
              "</div>"
            ],
            "text/plain": [
              "   index  quality\n",
              "0      0        0\n",
              "1      1        0\n",
              "2      2        0\n",
              "3      3        0\n",
              "4      4        0"
            ]
          },
          "metadata": {
            "tags": []
          },
          "execution_count": 5
        }
      ]
    },
    {
      "cell_type": "code",
      "metadata": {
        "colab": {
          "base_uri": "https://localhost:8080/"
        },
        "id": "irn-P3JBQuyl",
        "outputId": "72a3b4af-9ec2-473a-9d0c-915f52da35bf"
      },
      "source": [
        "train['type'].value_counts()"
      ],
      "execution_count": null,
      "outputs": [
        {
          "output_type": "execute_result",
          "data": {
            "text/plain": [
              "white    4159\n",
              "red      1338\n",
              "Name: type, dtype: int64"
            ]
          },
          "metadata": {
            "tags": []
          },
          "execution_count": 6
        }
      ]
    },
    {
      "cell_type": "code",
      "metadata": {
        "colab": {
          "base_uri": "https://localhost:8080/"
        },
        "id": "bO-_vLvkQy8M",
        "outputId": "3def1e66-750a-4eaa-dd5f-ba95240b3c14"
      },
      "source": [
        "train['type']=np.where(train['type']=='white',1,0).astype(int)\n",
        "test['type']=np.where(test['type']=='white',1,0).astype(int)\n",
        "train['type'].value_counts()"
      ],
      "execution_count": null,
      "outputs": [
        {
          "output_type": "execute_result",
          "data": {
            "text/plain": [
              "1    4159\n",
              "0    1338\n",
              "Name: type, dtype: int64"
            ]
          },
          "metadata": {
            "tags": []
          },
          "execution_count": 7
        }
      ]
    },
    {
      "cell_type": "code",
      "metadata": {
        "colab": {
          "base_uri": "https://localhost:8080/"
        },
        "id": "h7-b5_6fRBQn",
        "outputId": "0b04b2a1-c195-4900-be6c-7dcfc19424e8"
      },
      "source": [
        "train['quality'].value_counts()"
      ],
      "execution_count": null,
      "outputs": [
        {
          "output_type": "execute_result",
          "data": {
            "text/plain": [
              "6    2416\n",
              "5    1788\n",
              "7     924\n",
              "4     186\n",
              "8     152\n",
              "3      26\n",
              "9       5\n",
              "Name: quality, dtype: int64"
            ]
          },
          "metadata": {
            "tags": []
          },
          "execution_count": 8
        }
      ]
    },
    {
      "cell_type": "code",
      "metadata": {
        "colab": {
          "base_uri": "https://localhost:8080/"
        },
        "id": "6o3tBb9QRYNA",
        "outputId": "363fb2ff-1e4d-4041-a082-d8601dc0b2d4"
      },
      "source": [
        "from tensorflow.keras.utils import to_categorical\n",
        "y_train = to_categorical(train.loc[:,'quality']-3)\n",
        "y_train"
      ],
      "execution_count": null,
      "outputs": [
        {
          "output_type": "execute_result",
          "data": {
            "text/plain": [
              "array([[0., 0., 1., ..., 0., 0., 0.],\n",
              "       [0., 0., 1., ..., 0., 0., 0.],\n",
              "       [0., 0., 1., ..., 0., 0., 0.],\n",
              "       ...,\n",
              "       [0., 0., 0., ..., 1., 0., 0.],\n",
              "       [0., 0., 1., ..., 0., 0., 0.],\n",
              "       [0., 0., 0., ..., 0., 0., 0.]], dtype=float32)"
            ]
          },
          "metadata": {
            "tags": []
          },
          "execution_count": 9
        }
      ]
    },
    {
      "cell_type": "code",
      "metadata": {
        "colab": {
          "base_uri": "https://localhost:8080/"
        },
        "id": "4CMoWiB8Rjpo",
        "outputId": "c3af28ab-f38d-4348-c31a-4849da321570"
      },
      "source": [
        "#피처 선택\n",
        "x_train = train.loc[:,'fixed acidity':]\n",
        "x_test = test.loc[:,'fixed acidity':]\n",
        "\n",
        "#피쳐 스케일링\n",
        "from sklearn.preprocessing import MinMaxScaler\n",
        "scaler=MinMaxScaler()\n",
        "scaler.fit(x_train)\n",
        "x_train_scaled = scaler.fit_transform(x_train)\n",
        "x_test_scaled = scaler.fit_transform(x_test)\n",
        "\n",
        "print(x_train_scaled.shape,y_train.shape)\n",
        "print(x_test_scaled.shape)"
      ],
      "execution_count": null,
      "outputs": [
        {
          "output_type": "stream",
          "text": [
            "(5497, 12) (5497, 7)\n",
            "(1000, 12)\n"
          ],
          "name": "stdout"
        }
      ]
    },
    {
      "cell_type": "code",
      "metadata": {
        "colab": {
          "base_uri": "https://localhost:8080/"
        },
        "id": "oxldM_fPSoBs",
        "outputId": "c98f06ba-40cd-4664-ffa2-199200d6e2d5"
      },
      "source": [
        "from tensorflow.keras import Sequential\n",
        "from tensorflow.keras.layers import Dense, Dropout\n",
        "\n",
        "def build_model(train_data, train_target):\n",
        "   model = Sequential()\n",
        "   model.add(Dense(128, activation='tanh', input_dim=train_data.shape[1]))\n",
        "   model.add(Dropout(0.2))\n",
        "   model.add(Dense(64, activation='tanh'))\n",
        "   model.add(Dropout(0.2))\n",
        "   model.add(Dense(32, activation='tanh'))\n",
        "   model.add(Dense(train_target.shape[1], activation='softmax'))\n",
        "   model.compile(optimizer='RMSProp', loss='categorical_crossentropy',\n",
        "      metrics=['acc','mae'])\n",
        "\n",
        "   return model\n",
        "\n",
        "model = build_model(x_train_scaled,y_train)\n",
        "model.summary()"
      ],
      "execution_count": null,
      "outputs": [
        {
          "output_type": "stream",
          "text": [
            "Model: \"sequential_2\"\n",
            "_________________________________________________________________\n",
            "Layer (type)                 Output Shape              Param #   \n",
            "=================================================================\n",
            "dense_4 (Dense)              (None, 128)               1664      \n",
            "_________________________________________________________________\n",
            "dropout_2 (Dropout)          (None, 128)               0         \n",
            "_________________________________________________________________\n",
            "dense_5 (Dense)              (None, 64)                8256      \n",
            "_________________________________________________________________\n",
            "dropout_3 (Dropout)          (None, 64)                0         \n",
            "_________________________________________________________________\n",
            "dense_6 (Dense)              (None, 32)                2080      \n",
            "_________________________________________________________________\n",
            "dense_7 (Dense)              (None, 7)                 231       \n",
            "=================================================================\n",
            "Total params: 12,231\n",
            "Trainable params: 12,231\n",
            "Non-trainable params: 0\n",
            "_________________________________________________________________\n"
          ],
          "name": "stdout"
        }
      ]
    },
    {
      "cell_type": "code",
      "metadata": {
        "colab": {
          "base_uri": "https://localhost:8080/"
        },
        "id": "-JRP106jSliH",
        "outputId": "0bea65fa-de15-445e-865f-8cdf88293419"
      },
      "source": [
        "#Early Stopping 기법\n",
        "from sklearn.model_selection import train_test_split\n",
        "from tensorflow.keras.callbacks import EarlyStopping\n",
        "\n",
        "x_tr, x_val, y_tr,y_val = train_test_split(x_train_scaled,y_train,test_size=0.15, shuffle=True, random_state=SEED)\n",
        "\n",
        "early_stopping = EarlyStopping(monitor='val_loss',patience=10)\n",
        "history = model.fit(x_tr, y_tr, batch_size=64,epochs=200,validation_data=(x_val,y_val),\n",
        "                    callbacks=[early_stopping],\n",
        "                    verbose=2)"
      ],
      "execution_count": null,
      "outputs": [
        {
          "output_type": "stream",
          "text": [
            "Epoch 1/200\n",
            "73/73 - 1s - loss: 1.2872 - acc: 0.4664 - mae: 0.1917 - val_loss: 1.1571 - val_acc: 0.5091 - val_mae: 0.1787\n",
            "Epoch 2/200\n",
            "73/73 - 0s - loss: 1.1722 - acc: 0.5002 - mae: 0.1777 - val_loss: 1.1028 - val_acc: 0.5406 - val_mae: 0.1726\n",
            "Epoch 3/200\n",
            "73/73 - 0s - loss: 1.1428 - acc: 0.5182 - mae: 0.1738 - val_loss: 1.0799 - val_acc: 0.5491 - val_mae: 0.1683\n",
            "Epoch 4/200\n",
            "73/73 - 0s - loss: 1.1277 - acc: 0.5203 - mae: 0.1722 - val_loss: 1.1126 - val_acc: 0.5079 - val_mae: 0.1705\n",
            "Epoch 5/200\n",
            "73/73 - 0s - loss: 1.1133 - acc: 0.5274 - mae: 0.1708 - val_loss: 1.0650 - val_acc: 0.5539 - val_mae: 0.1675\n",
            "Epoch 6/200\n",
            "73/73 - 0s - loss: 1.1044 - acc: 0.5287 - mae: 0.1705 - val_loss: 1.0584 - val_acc: 0.5491 - val_mae: 0.1659\n",
            "Epoch 7/200\n",
            "73/73 - 0s - loss: 1.0990 - acc: 0.5336 - mae: 0.1699 - val_loss: 1.0554 - val_acc: 0.5503 - val_mae: 0.1652\n",
            "Epoch 8/200\n",
            "73/73 - 0s - loss: 1.0983 - acc: 0.5253 - mae: 0.1696 - val_loss: 1.0602 - val_acc: 0.5539 - val_mae: 0.1649\n",
            "Epoch 9/200\n",
            "73/73 - 0s - loss: 1.0950 - acc: 0.5319 - mae: 0.1690 - val_loss: 1.0586 - val_acc: 0.5527 - val_mae: 0.1661\n",
            "Epoch 10/200\n",
            "73/73 - 0s - loss: 1.0971 - acc: 0.5304 - mae: 0.1692 - val_loss: 1.0577 - val_acc: 0.5394 - val_mae: 0.1675\n",
            "Epoch 11/200\n",
            "73/73 - 0s - loss: 1.0896 - acc: 0.5332 - mae: 0.1689 - val_loss: 1.0494 - val_acc: 0.5297 - val_mae: 0.1648\n",
            "Epoch 12/200\n",
            "73/73 - 0s - loss: 1.0840 - acc: 0.5349 - mae: 0.1683 - val_loss: 1.0493 - val_acc: 0.5442 - val_mae: 0.1652\n",
            "Epoch 13/200\n",
            "73/73 - 0s - loss: 1.0849 - acc: 0.5312 - mae: 0.1680 - val_loss: 1.0516 - val_acc: 0.5394 - val_mae: 0.1671\n",
            "Epoch 14/200\n",
            "73/73 - 0s - loss: 1.0839 - acc: 0.5396 - mae: 0.1684 - val_loss: 1.0467 - val_acc: 0.5503 - val_mae: 0.1634\n",
            "Epoch 15/200\n",
            "73/73 - 0s - loss: 1.0790 - acc: 0.5351 - mae: 0.1680 - val_loss: 1.0529 - val_acc: 0.5418 - val_mae: 0.1656\n",
            "Epoch 16/200\n",
            "73/73 - 0s - loss: 1.0811 - acc: 0.5360 - mae: 0.1678 - val_loss: 1.0490 - val_acc: 0.5564 - val_mae: 0.1643\n",
            "Epoch 17/200\n",
            "73/73 - 0s - loss: 1.0829 - acc: 0.5368 - mae: 0.1677 - val_loss: 1.0470 - val_acc: 0.5479 - val_mae: 0.1662\n",
            "Epoch 18/200\n",
            "73/73 - 0s - loss: 1.0763 - acc: 0.5396 - mae: 0.1681 - val_loss: 1.0497 - val_acc: 0.5491 - val_mae: 0.1669\n",
            "Epoch 19/200\n",
            "73/73 - 0s - loss: 1.0794 - acc: 0.5387 - mae: 0.1677 - val_loss: 1.0394 - val_acc: 0.5588 - val_mae: 0.1640\n",
            "Epoch 20/200\n",
            "73/73 - 0s - loss: 1.0767 - acc: 0.5383 - mae: 0.1677 - val_loss: 1.0395 - val_acc: 0.5503 - val_mae: 0.1638\n",
            "Epoch 21/200\n",
            "73/73 - 0s - loss: 1.0754 - acc: 0.5381 - mae: 0.1671 - val_loss: 1.0424 - val_acc: 0.5467 - val_mae: 0.1655\n",
            "Epoch 22/200\n",
            "73/73 - 0s - loss: 1.0750 - acc: 0.5387 - mae: 0.1676 - val_loss: 1.0524 - val_acc: 0.5345 - val_mae: 0.1651\n",
            "Epoch 23/200\n",
            "73/73 - 0s - loss: 1.0710 - acc: 0.5405 - mae: 0.1674 - val_loss: 1.0454 - val_acc: 0.5624 - val_mae: 0.1636\n",
            "Epoch 24/200\n",
            "73/73 - 0s - loss: 1.0694 - acc: 0.5409 - mae: 0.1664 - val_loss: 1.0371 - val_acc: 0.5624 - val_mae: 0.1646\n",
            "Epoch 25/200\n",
            "73/73 - 0s - loss: 1.0692 - acc: 0.5415 - mae: 0.1672 - val_loss: 1.0381 - val_acc: 0.5539 - val_mae: 0.1625\n",
            "Epoch 26/200\n",
            "73/73 - 0s - loss: 1.0623 - acc: 0.5456 - mae: 0.1660 - val_loss: 1.0537 - val_acc: 0.5430 - val_mae: 0.1657\n",
            "Epoch 27/200\n",
            "73/73 - 0s - loss: 1.0667 - acc: 0.5447 - mae: 0.1668 - val_loss: 1.0470 - val_acc: 0.5491 - val_mae: 0.1644\n",
            "Epoch 28/200\n",
            "73/73 - 0s - loss: 1.0612 - acc: 0.5462 - mae: 0.1662 - val_loss: 1.0348 - val_acc: 0.5515 - val_mae: 0.1638\n",
            "Epoch 29/200\n",
            "73/73 - 0s - loss: 1.0612 - acc: 0.5443 - mae: 0.1661 - val_loss: 1.0429 - val_acc: 0.5648 - val_mae: 0.1649\n",
            "Epoch 30/200\n",
            "73/73 - 0s - loss: 1.0570 - acc: 0.5473 - mae: 0.1660 - val_loss: 1.0333 - val_acc: 0.5576 - val_mae: 0.1606\n",
            "Epoch 31/200\n",
            "73/73 - 0s - loss: 1.0558 - acc: 0.5479 - mae: 0.1652 - val_loss: 1.0368 - val_acc: 0.5782 - val_mae: 0.1635\n",
            "Epoch 32/200\n",
            "73/73 - 0s - loss: 1.0518 - acc: 0.5479 - mae: 0.1650 - val_loss: 1.0349 - val_acc: 0.5539 - val_mae: 0.1644\n",
            "Epoch 33/200\n",
            "73/73 - 0s - loss: 1.0518 - acc: 0.5454 - mae: 0.1655 - val_loss: 1.0364 - val_acc: 0.5648 - val_mae: 0.1634\n",
            "Epoch 34/200\n",
            "73/73 - 0s - loss: 1.0520 - acc: 0.5471 - mae: 0.1652 - val_loss: 1.0311 - val_acc: 0.5697 - val_mae: 0.1623\n",
            "Epoch 35/200\n",
            "73/73 - 0s - loss: 1.0474 - acc: 0.5514 - mae: 0.1646 - val_loss: 1.0322 - val_acc: 0.5539 - val_mae: 0.1626\n",
            "Epoch 36/200\n",
            "73/73 - 0s - loss: 1.0470 - acc: 0.5505 - mae: 0.1645 - val_loss: 1.0435 - val_acc: 0.5564 - val_mae: 0.1644\n",
            "Epoch 37/200\n",
            "73/73 - 0s - loss: 1.0468 - acc: 0.5503 - mae: 0.1642 - val_loss: 1.0309 - val_acc: 0.5515 - val_mae: 0.1637\n",
            "Epoch 38/200\n",
            "73/73 - 0s - loss: 1.0479 - acc: 0.5471 - mae: 0.1650 - val_loss: 1.0284 - val_acc: 0.5479 - val_mae: 0.1618\n",
            "Epoch 39/200\n",
            "73/73 - 0s - loss: 1.0436 - acc: 0.5503 - mae: 0.1635 - val_loss: 1.0296 - val_acc: 0.5552 - val_mae: 0.1624\n",
            "Epoch 40/200\n",
            "73/73 - 0s - loss: 1.0459 - acc: 0.5567 - mae: 0.1644 - val_loss: 1.0306 - val_acc: 0.5794 - val_mae: 0.1626\n",
            "Epoch 41/200\n",
            "73/73 - 0s - loss: 1.0468 - acc: 0.5546 - mae: 0.1643 - val_loss: 1.0272 - val_acc: 0.5661 - val_mae: 0.1609\n",
            "Epoch 42/200\n",
            "73/73 - 0s - loss: 1.0404 - acc: 0.5546 - mae: 0.1635 - val_loss: 1.0362 - val_acc: 0.5721 - val_mae: 0.1644\n",
            "Epoch 43/200\n",
            "73/73 - 0s - loss: 1.0409 - acc: 0.5522 - mae: 0.1642 - val_loss: 1.0343 - val_acc: 0.5552 - val_mae: 0.1625\n",
            "Epoch 44/200\n",
            "73/73 - 0s - loss: 1.0370 - acc: 0.5578 - mae: 0.1636 - val_loss: 1.0248 - val_acc: 0.5685 - val_mae: 0.1609\n",
            "Epoch 45/200\n",
            "73/73 - 0s - loss: 1.0414 - acc: 0.5529 - mae: 0.1636 - val_loss: 1.0319 - val_acc: 0.5648 - val_mae: 0.1622\n",
            "Epoch 46/200\n",
            "73/73 - 0s - loss: 1.0425 - acc: 0.5473 - mae: 0.1641 - val_loss: 1.0257 - val_acc: 0.5552 - val_mae: 0.1597\n",
            "Epoch 47/200\n",
            "73/73 - 0s - loss: 1.0401 - acc: 0.5552 - mae: 0.1631 - val_loss: 1.0380 - val_acc: 0.5733 - val_mae: 0.1620\n",
            "Epoch 48/200\n",
            "73/73 - 0s - loss: 1.0375 - acc: 0.5518 - mae: 0.1633 - val_loss: 1.0287 - val_acc: 0.5673 - val_mae: 0.1605\n",
            "Epoch 49/200\n",
            "73/73 - 0s - loss: 1.0369 - acc: 0.5514 - mae: 0.1632 - val_loss: 1.0291 - val_acc: 0.5709 - val_mae: 0.1615\n",
            "Epoch 50/200\n",
            "73/73 - 0s - loss: 1.0379 - acc: 0.5535 - mae: 0.1635 - val_loss: 1.0256 - val_acc: 0.5685 - val_mae: 0.1623\n",
            "Epoch 51/200\n",
            "73/73 - 0s - loss: 1.0343 - acc: 0.5559 - mae: 0.1632 - val_loss: 1.0306 - val_acc: 0.5770 - val_mae: 0.1617\n",
            "Epoch 52/200\n",
            "73/73 - 0s - loss: 1.0345 - acc: 0.5614 - mae: 0.1630 - val_loss: 1.0337 - val_acc: 0.5552 - val_mae: 0.1635\n",
            "Epoch 53/200\n",
            "73/73 - 0s - loss: 1.0355 - acc: 0.5512 - mae: 0.1631 - val_loss: 1.0260 - val_acc: 0.5636 - val_mae: 0.1607\n",
            "Epoch 54/200\n",
            "73/73 - 0s - loss: 1.0388 - acc: 0.5584 - mae: 0.1635 - val_loss: 1.0221 - val_acc: 0.5600 - val_mae: 0.1617\n",
            "Epoch 55/200\n",
            "73/73 - 0s - loss: 1.0341 - acc: 0.5554 - mae: 0.1628 - val_loss: 1.0255 - val_acc: 0.5661 - val_mae: 0.1618\n",
            "Epoch 56/200\n",
            "73/73 - 0s - loss: 1.0363 - acc: 0.5557 - mae: 0.1633 - val_loss: 1.0208 - val_acc: 0.5552 - val_mae: 0.1600\n",
            "Epoch 57/200\n",
            "73/73 - 0s - loss: 1.0276 - acc: 0.5638 - mae: 0.1625 - val_loss: 1.0264 - val_acc: 0.5661 - val_mae: 0.1624\n",
            "Epoch 58/200\n",
            "73/73 - 0s - loss: 1.0324 - acc: 0.5490 - mae: 0.1627 - val_loss: 1.0214 - val_acc: 0.5648 - val_mae: 0.1607\n",
            "Epoch 59/200\n",
            "73/73 - 0s - loss: 1.0348 - acc: 0.5578 - mae: 0.1628 - val_loss: 1.0240 - val_acc: 0.5733 - val_mae: 0.1621\n",
            "Epoch 60/200\n",
            "73/73 - 0s - loss: 1.0310 - acc: 0.5557 - mae: 0.1630 - val_loss: 1.0264 - val_acc: 0.5709 - val_mae: 0.1609\n",
            "Epoch 61/200\n",
            "73/73 - 0s - loss: 1.0279 - acc: 0.5619 - mae: 0.1624 - val_loss: 1.0213 - val_acc: 0.5612 - val_mae: 0.1588\n",
            "Epoch 62/200\n",
            "73/73 - 0s - loss: 1.0263 - acc: 0.5591 - mae: 0.1622 - val_loss: 1.0326 - val_acc: 0.5515 - val_mae: 0.1601\n",
            "Epoch 63/200\n",
            "73/73 - 0s - loss: 1.0279 - acc: 0.5591 - mae: 0.1620 - val_loss: 1.0244 - val_acc: 0.5527 - val_mae: 0.1607\n",
            "Epoch 64/200\n",
            "73/73 - 0s - loss: 1.0279 - acc: 0.5595 - mae: 0.1624 - val_loss: 1.0204 - val_acc: 0.5673 - val_mae: 0.1602\n",
            "Epoch 65/200\n",
            "73/73 - 0s - loss: 1.0286 - acc: 0.5529 - mae: 0.1623 - val_loss: 1.0223 - val_acc: 0.5661 - val_mae: 0.1601\n",
            "Epoch 66/200\n",
            "73/73 - 0s - loss: 1.0302 - acc: 0.5554 - mae: 0.1623 - val_loss: 1.0233 - val_acc: 0.5661 - val_mae: 0.1626\n",
            "Epoch 67/200\n",
            "73/73 - 0s - loss: 1.0256 - acc: 0.5674 - mae: 0.1621 - val_loss: 1.0308 - val_acc: 0.5709 - val_mae: 0.1607\n",
            "Epoch 68/200\n",
            "73/73 - 0s - loss: 1.0258 - acc: 0.5606 - mae: 0.1620 - val_loss: 1.0211 - val_acc: 0.5588 - val_mae: 0.1607\n",
            "Epoch 69/200\n",
            "73/73 - 0s - loss: 1.0248 - acc: 0.5649 - mae: 0.1622 - val_loss: 1.0231 - val_acc: 0.5588 - val_mae: 0.1597\n",
            "Epoch 70/200\n",
            "73/73 - 0s - loss: 1.0224 - acc: 0.5634 - mae: 0.1613 - val_loss: 1.0227 - val_acc: 0.5842 - val_mae: 0.1594\n",
            "Epoch 71/200\n",
            "73/73 - 0s - loss: 1.0272 - acc: 0.5621 - mae: 0.1621 - val_loss: 1.0219 - val_acc: 0.5552 - val_mae: 0.1603\n",
            "Epoch 72/200\n",
            "73/73 - 0s - loss: 1.0193 - acc: 0.5578 - mae: 0.1614 - val_loss: 1.0176 - val_acc: 0.5661 - val_mae: 0.1588\n",
            "Epoch 73/200\n",
            "73/73 - 0s - loss: 1.0233 - acc: 0.5578 - mae: 0.1616 - val_loss: 1.0234 - val_acc: 0.5624 - val_mae: 0.1610\n",
            "Epoch 74/200\n",
            "73/73 - 0s - loss: 1.0226 - acc: 0.5599 - mae: 0.1617 - val_loss: 1.0181 - val_acc: 0.5697 - val_mae: 0.1586\n",
            "Epoch 75/200\n",
            "73/73 - 0s - loss: 1.0223 - acc: 0.5606 - mae: 0.1616 - val_loss: 1.0232 - val_acc: 0.5697 - val_mae: 0.1609\n",
            "Epoch 76/200\n",
            "73/73 - 0s - loss: 1.0189 - acc: 0.5621 - mae: 0.1616 - val_loss: 1.0209 - val_acc: 0.5648 - val_mae: 0.1595\n",
            "Epoch 77/200\n",
            "73/73 - 0s - loss: 1.0198 - acc: 0.5619 - mae: 0.1614 - val_loss: 1.0209 - val_acc: 0.5721 - val_mae: 0.1595\n",
            "Epoch 78/200\n",
            "73/73 - 0s - loss: 1.0181 - acc: 0.5612 - mae: 0.1614 - val_loss: 1.0180 - val_acc: 0.5709 - val_mae: 0.1596\n",
            "Epoch 79/200\n",
            "73/73 - 0s - loss: 1.0195 - acc: 0.5679 - mae: 0.1612 - val_loss: 1.0174 - val_acc: 0.5648 - val_mae: 0.1585\n",
            "Epoch 80/200\n",
            "73/73 - 0s - loss: 1.0172 - acc: 0.5713 - mae: 0.1611 - val_loss: 1.0335 - val_acc: 0.5515 - val_mae: 0.1618\n",
            "Epoch 81/200\n",
            "73/73 - 0s - loss: 1.0170 - acc: 0.5614 - mae: 0.1613 - val_loss: 1.0192 - val_acc: 0.5806 - val_mae: 0.1580\n",
            "Epoch 82/200\n",
            "73/73 - 0s - loss: 1.0165 - acc: 0.5597 - mae: 0.1611 - val_loss: 1.0177 - val_acc: 0.5770 - val_mae: 0.1583\n",
            "Epoch 83/200\n",
            "73/73 - 0s - loss: 1.0129 - acc: 0.5670 - mae: 0.1604 - val_loss: 1.0192 - val_acc: 0.5721 - val_mae: 0.1598\n",
            "Epoch 84/200\n",
            "73/73 - 0s - loss: 1.0163 - acc: 0.5666 - mae: 0.1608 - val_loss: 1.0216 - val_acc: 0.5673 - val_mae: 0.1584\n",
            "Epoch 85/200\n",
            "73/73 - 0s - loss: 1.0148 - acc: 0.5593 - mae: 0.1611 - val_loss: 1.0192 - val_acc: 0.5661 - val_mae: 0.1604\n",
            "Epoch 86/200\n",
            "73/73 - 0s - loss: 1.0130 - acc: 0.5636 - mae: 0.1606 - val_loss: 1.0156 - val_acc: 0.5709 - val_mae: 0.1591\n",
            "Epoch 87/200\n",
            "73/73 - 0s - loss: 1.0144 - acc: 0.5606 - mae: 0.1605 - val_loss: 1.0192 - val_acc: 0.5745 - val_mae: 0.1595\n",
            "Epoch 88/200\n",
            "73/73 - 0s - loss: 1.0141 - acc: 0.5689 - mae: 0.1606 - val_loss: 1.0203 - val_acc: 0.5709 - val_mae: 0.1574\n",
            "Epoch 89/200\n",
            "73/73 - 0s - loss: 1.0146 - acc: 0.5674 - mae: 0.1605 - val_loss: 1.0175 - val_acc: 0.5576 - val_mae: 0.1588\n",
            "Epoch 90/200\n",
            "73/73 - 0s - loss: 1.0157 - acc: 0.5653 - mae: 0.1603 - val_loss: 1.0209 - val_acc: 0.5685 - val_mae: 0.1594\n",
            "Epoch 91/200\n",
            "73/73 - 0s - loss: 1.0106 - acc: 0.5676 - mae: 0.1604 - val_loss: 1.0195 - val_acc: 0.5600 - val_mae: 0.1585\n",
            "Epoch 92/200\n",
            "73/73 - 0s - loss: 1.0129 - acc: 0.5679 - mae: 0.1601 - val_loss: 1.0155 - val_acc: 0.5709 - val_mae: 0.1575\n",
            "Epoch 93/200\n",
            "73/73 - 0s - loss: 1.0104 - acc: 0.5664 - mae: 0.1603 - val_loss: 1.0138 - val_acc: 0.5648 - val_mae: 0.1578\n",
            "Epoch 94/200\n",
            "73/73 - 0s - loss: 1.0102 - acc: 0.5721 - mae: 0.1593 - val_loss: 1.0234 - val_acc: 0.5758 - val_mae: 0.1609\n",
            "Epoch 95/200\n",
            "73/73 - 0s - loss: 1.0093 - acc: 0.5706 - mae: 0.1603 - val_loss: 1.0227 - val_acc: 0.5806 - val_mae: 0.1614\n",
            "Epoch 96/200\n",
            "73/73 - 0s - loss: 1.0101 - acc: 0.5657 - mae: 0.1607 - val_loss: 1.0223 - val_acc: 0.5685 - val_mae: 0.1602\n",
            "Epoch 97/200\n",
            "73/73 - 0s - loss: 1.0069 - acc: 0.5764 - mae: 0.1601 - val_loss: 1.0169 - val_acc: 0.5794 - val_mae: 0.1573\n",
            "Epoch 98/200\n",
            "73/73 - 0s - loss: 1.0103 - acc: 0.5644 - mae: 0.1602 - val_loss: 1.0165 - val_acc: 0.5661 - val_mae: 0.1597\n",
            "Epoch 99/200\n",
            "73/73 - 0s - loss: 1.0106 - acc: 0.5674 - mae: 0.1604 - val_loss: 1.0180 - val_acc: 0.5830 - val_mae: 0.1582\n",
            "Epoch 100/200\n",
            "73/73 - 0s - loss: 1.0081 - acc: 0.5666 - mae: 0.1597 - val_loss: 1.0182 - val_acc: 0.5709 - val_mae: 0.1598\n",
            "Epoch 101/200\n",
            "73/73 - 0s - loss: 1.0082 - acc: 0.5700 - mae: 0.1599 - val_loss: 1.0178 - val_acc: 0.5600 - val_mae: 0.1593\n",
            "Epoch 102/200\n",
            "73/73 - 0s - loss: 1.0096 - acc: 0.5646 - mae: 0.1601 - val_loss: 1.0174 - val_acc: 0.5818 - val_mae: 0.1589\n",
            "Epoch 103/200\n",
            "73/73 - 0s - loss: 1.0077 - acc: 0.5696 - mae: 0.1600 - val_loss: 1.0163 - val_acc: 0.5721 - val_mae: 0.1576\n"
          ],
          "name": "stdout"
        }
      ]
    },
    {
      "cell_type": "code",
      "metadata": {
        "colab": {
          "base_uri": "https://localhost:8080/"
        },
        "id": "NGexm8dpUHrR",
        "outputId": "c282a0be-f2df-4789-cd2c-f7e9ad47d6a8"
      },
      "source": [
        "model.evaluate(x_val,y_val)"
      ],
      "execution_count": null,
      "outputs": [
        {
          "output_type": "stream",
          "text": [
            "26/26 [==============================] - 0s 1ms/step - loss: 1.0163 - acc: 0.5721 - mae: 0.1576\n"
          ],
          "name": "stdout"
        },
        {
          "output_type": "execute_result",
          "data": {
            "text/plain": [
              "[1.016330361366272, 0.5721212029457092, 0.15763208270072937]"
            ]
          },
          "metadata": {
            "tags": []
          },
          "execution_count": 27
        }
      ]
    },
    {
      "cell_type": "code",
      "metadata": {
        "colab": {
          "base_uri": "https://localhost:8080/"
        },
        "id": "lRCgH9O0V_eK",
        "outputId": "1b007a8b-1c6a-46e8-db3c-1ed2b02e9916"
      },
      "source": [
        "#test 데이터에 대한 예측값 정리\n",
        "y_pred_proba = model.predict(x_test)\n",
        "y_pred_proba[:5]"
      ],
      "execution_count": null,
      "outputs": [
        {
          "output_type": "execute_result",
          "data": {
            "text/plain": [
              "array([[0.40388593, 0.00575143, 0.00817167, 0.02971075, 0.020928  ,\n",
              "        0.09292078, 0.43863142],\n",
              "       [0.5774761 , 0.00433352, 0.00770558, 0.02149555, 0.04819646,\n",
              "        0.08464994, 0.25614282],\n",
              "       [0.47045806, 0.00515812, 0.00643516, 0.02009124, 0.02587503,\n",
              "        0.09177318, 0.38020927],\n",
              "       [0.29328004, 0.00366787, 0.00226387, 0.00620042, 0.00696496,\n",
              "        0.03489783, 0.65272504],\n",
              "       [0.59020454, 0.00525206, 0.00877431, 0.02565144, 0.0483153 ,\n",
              "        0.08779415, 0.23400821]], dtype=float32)"
            ]
          },
          "metadata": {
            "tags": []
          },
          "execution_count": 28
        }
      ]
    },
    {
      "cell_type": "code",
      "metadata": {
        "colab": {
          "base_uri": "https://localhost:8080/"
        },
        "id": "LGPUZLrPWI0z",
        "outputId": "7339d1e7-36ae-4d80-fc41-f16a97f7e7e0"
      },
      "source": [
        "y_pred_label = np.argmax(y_pred_proba,axis=-1)+3\n",
        "y_pred_label[:5]"
      ],
      "execution_count": null,
      "outputs": [
        {
          "output_type": "execute_result",
          "data": {
            "text/plain": [
              "array([9, 3, 3, 9, 3])"
            ]
          },
          "metadata": {
            "tags": []
          },
          "execution_count": 29
        }
      ]
    },
    {
      "cell_type": "code",
      "metadata": {
        "colab": {
          "base_uri": "https://localhost:8080/",
          "height": 204
        },
        "id": "ZRpR950GWTyM",
        "outputId": "86d55ae4-d329-44ac-84b8-b970aeb68e27"
      },
      "source": [
        "#제출 양식에 맞게 정리\n",
        "submission['quality']= y_pred_label.astype(int)\n",
        "submission.head()"
      ],
      "execution_count": null,
      "outputs": [
        {
          "output_type": "execute_result",
          "data": {
            "text/html": [
              "<div>\n",
              "<style scoped>\n",
              "    .dataframe tbody tr th:only-of-type {\n",
              "        vertical-align: middle;\n",
              "    }\n",
              "\n",
              "    .dataframe tbody tr th {\n",
              "        vertical-align: top;\n",
              "    }\n",
              "\n",
              "    .dataframe thead th {\n",
              "        text-align: right;\n",
              "    }\n",
              "</style>\n",
              "<table border=\"1\" class=\"dataframe\">\n",
              "  <thead>\n",
              "    <tr style=\"text-align: right;\">\n",
              "      <th></th>\n",
              "      <th>index</th>\n",
              "      <th>quality</th>\n",
              "    </tr>\n",
              "  </thead>\n",
              "  <tbody>\n",
              "    <tr>\n",
              "      <th>0</th>\n",
              "      <td>0</td>\n",
              "      <td>9</td>\n",
              "    </tr>\n",
              "    <tr>\n",
              "      <th>1</th>\n",
              "      <td>1</td>\n",
              "      <td>3</td>\n",
              "    </tr>\n",
              "    <tr>\n",
              "      <th>2</th>\n",
              "      <td>2</td>\n",
              "      <td>3</td>\n",
              "    </tr>\n",
              "    <tr>\n",
              "      <th>3</th>\n",
              "      <td>3</td>\n",
              "      <td>9</td>\n",
              "    </tr>\n",
              "    <tr>\n",
              "      <th>4</th>\n",
              "      <td>4</td>\n",
              "      <td>3</td>\n",
              "    </tr>\n",
              "  </tbody>\n",
              "</table>\n",
              "</div>"
            ],
            "text/plain": [
              "   index  quality\n",
              "0      0        9\n",
              "1      1        3\n",
              "2      2        3\n",
              "3      3        9\n",
              "4      4        3"
            ]
          },
          "metadata": {
            "tags": []
          },
          "execution_count": 30
        }
      ]
    },
    {
      "cell_type": "code",
      "metadata": {
        "id": "34KWlM04WcqK"
      },
      "source": [
        "#제출파일 저장\n",
        "submission.to_csv(drive_path+\"wine/wine_dnn_001.csv\",index=False)"
      ],
      "execution_count": null,
      "outputs": []
    },
    {
      "cell_type": "code",
      "metadata": {
        "id": "0kRUx9u1WmBM"
      },
      "source": [
        ""
      ],
      "execution_count": null,
      "outputs": []
    }
  ]
}